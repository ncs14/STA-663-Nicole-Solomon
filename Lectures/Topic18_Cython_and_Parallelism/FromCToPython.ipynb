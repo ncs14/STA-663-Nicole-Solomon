{
 "metadata": {
  "name": "",
  "signature": "sha256:c0e0e594b273928c986ca635ae0634dbd951f2a63c47b47abb61467118e2fe09"
 },
 "nbformat": 3,
 "nbformat_minor": 0,
 "worksheets": [
  {
   "cells": [
    {
     "cell_type": "code",
     "collapsed": false,
     "input": [
      "from __future__ import division\n",
      "import os\n",
      "import sys\n",
      "import glob\n",
      "import matplotlib.pyplot as plt\n",
      "import numpy as np\n",
      "import pandas as pd\n",
      "%matplotlib inline\n",
      "%precision 4\n",
      "plt.style.use('ggplot')\n"
     ],
     "language": "python",
     "metadata": {},
     "outputs": [],
     "prompt_number": 2
    },
    {
     "cell_type": "code",
     "collapsed": false,
     "input": [
      "import bitey"
     ],
     "language": "python",
     "metadata": {},
     "outputs": [],
     "prompt_number": 3
    },
    {
     "cell_type": "code",
     "collapsed": false,
     "input": [
      "%load_ext cythonmagic"
     ],
     "language": "python",
     "metadata": {},
     "outputs": [],
     "prompt_number": 4
    },
    {
     "cell_type": "markdown",
     "metadata": {},
     "source": [
      "The Fibonacci Sequence\n",
      "----"
     ]
    },
    {
     "cell_type": "code",
     "collapsed": false,
     "input": [
      "# header file\n",
      "%%file c_fib.h\n",
      "double c_fib(int n);"
     ],
     "language": "python",
     "metadata": {},
     "outputs": [
      {
       "output_type": "stream",
       "stream": "stdout",
       "text": [
        "Overwriting c_fib.h\n"
       ]
      }
     ],
     "prompt_number": 5
    },
    {
     "cell_type": "code",
     "collapsed": false,
     "input": [
      "# compiler file\n",
      "%%file c_fib.c\n",
      "double c_fib(int n) { # input = integer, output = double;\n",
      "    double tmp, a = 0, b = 1;\n",
      "    for (int i=0; i<n; i++) {\n",
      "        tmp = a;\n",
      "        a = a + b;\n",
      "        b = tmp;\n",
      "    }\n",
      "    return a;\n",
      "}"
     ],
     "language": "python",
     "metadata": {},
     "outputs": [
      {
       "output_type": "stream",
       "stream": "stdout",
       "text": [
        "Overwriting c_fib.c\n"
       ]
      }
     ],
     "prompt_number": 6
    },
    {
     "cell_type": "markdown",
     "metadata": {},
     "source": [
      "### Using clang and bitey"
     ]
    },
    {
     "cell_type": "code",
     "collapsed": false,
     "input": [
      "!clang -O3 -emit-llvm -c c_fib.c -o bitey_fib.o # .o file can now be called like a python module;"
     ],
     "language": "python",
     "metadata": {},
     "outputs": [],
     "prompt_number": 7
    },
    {
     "cell_type": "code",
     "collapsed": false,
     "input": [
      "import bitey_fib"
     ],
     "language": "python",
     "metadata": {},
     "outputs": []
    },
    {
     "cell_type": "code",
     "collapsed": false,
     "input": [
      "bitey_fib.c_fib(10)"
     ],
     "language": "python",
     "metadata": {},
     "outputs": []
    },
    {
     "cell_type": "markdown",
     "metadata": {},
     "source": [
      "### Using gcc and ctypes"
     ]
    },
    {
     "cell_type": "code",
     "collapsed": false,
     "input": [
      "! gcc -O3 -bundle -undefined dynamic_lookup c_fib.c -o ctypes_fib.so # .so file == shared library;"
     ],
     "language": "python",
     "metadata": {},
     "outputs": [],
     "prompt_number": 8
    },
    {
     "cell_type": "code",
     "collapsed": false,
     "input": [
      "from ctypes import CDLL, c_int, c_double\n",
      "\n",
      "def ctypes_fib(n):\n",
      "    \n",
      "    # Use ctypes to load the C library\n",
      "    lib = CDLL('./ctypes_fib.so')\n",
      "\n",
      "    # We need to give the argument and return types explicitly\n",
      "    lib.c_fib.argtypes = [c_int]\n",
      "    lib.c_fib.restype  = c_double\n",
      "    \n",
      "    return lib.c_fib(n)"
     ],
     "language": "python",
     "metadata": {},
     "outputs": [],
     "prompt_number": 9
    },
    {
     "cell_type": "code",
     "collapsed": false,
     "input": [
      "ctypes_fib(10)"
     ],
     "language": "python",
     "metadata": {},
     "outputs": []
    },
    {
     "cell_type": "markdown",
     "metadata": {},
     "source": [
      "### Using Cython"
     ]
    },
    {
     "cell_type": "code",
     "collapsed": false,
     "input": [
      "%load_ext cythonmagic # can convert python code incrementally to C;"
     ],
     "language": "python",
     "metadata": {},
     "outputs": [
      {
       "output_type": "stream",
       "stream": "stdout",
       "text": [
        "The cythonmagic extension is already loaded. To reload it, use:\n",
        "  %reload_ext cythonmagic\n"
       ]
      }
     ],
     "prompt_number": 10
    },
    {
     "cell_type": "code",
     "collapsed": false,
     "input": [
      "%%file cy_fib.pxd # header file for cython;\n",
      "cdef extern from \"c_fib.h\":\n",
      "    double c_fib(int n)"
     ],
     "language": "python",
     "metadata": {},
     "outputs": [
      {
       "output_type": "stream",
       "stream": "stdout",
       "text": [
        "Overwriting cy_fib.pxd\n"
       ]
      }
     ],
     "prompt_number": 11
    },
    {
     "cell_type": "code",
     "collapsed": false,
     "input": [
      "%%file cy_fib.pyx\n",
      "cimport cy_fib # import c headers;\n",
      "\n",
      "cpdef cython_fib(n): # define fcn \"cython_fib\", cpdef --> in C & python, def --> in python only, cdef --> in C only;\n",
      "    return cy_fib.c_fib(n)"
     ],
     "language": "python",
     "metadata": {},
     "outputs": [
      {
       "output_type": "stream",
       "stream": "stdout",
       "text": [
        "Overwriting cy_fib.pyx\n"
       ]
      }
     ],
     "prompt_number": 12
    },
    {
     "cell_type": "code",
     "collapsed": false,
     "input": [
      "%%file setup.py\n",
      "from distutils.core import setup, Extension\n",
      "from Cython.Build import cythonize # --> portability whether you use Clang, VisualStudio, etc.;\n",
      "\n",
      "ext = Extension(\"cy_fib\",\n",
      "              sources=[\"cy_fib.pyx\", \"c_fib.c\"])\n",
      "\n",
      "setup(name = \"cython_fib\",\n",
      "      ext_modules = cythonize(ext)) # takes things in pyx and defines fcn in python, resulting fcn is practically as fast as hand-coded C;"
     ],
     "language": "python",
     "metadata": {},
     "outputs": [
      {
       "output_type": "stream",
       "stream": "stdout",
       "text": [
        "Overwriting setup.py\n"
       ]
      }
     ],
     "prompt_number": 13
    },
    {
     "cell_type": "code",
     "collapsed": false,
     "input": [
      "! python setup.py build_ext -i &> /dev/null # incantation to build package;"
     ],
     "language": "python",
     "metadata": {},
     "outputs": [],
     "prompt_number": 14
    },
    {
     "cell_type": "markdown",
     "metadata": {},
     "source": [
      "Benchmark\n",
      "---"
     ]
    },
    {
     "cell_type": "code",
     "collapsed": false,
     "input": [
      "import cy_fib\n",
      "import bitey_fib"
     ],
     "language": "python",
     "metadata": {},
     "outputs": [],
     "prompt_number": 15
    },
    {
     "cell_type": "code",
     "collapsed": false,
     "input": [
      "print ctypes_fib(100)\n",
      "print bitey_fib.c_fib(100)\n",
      "print cy_fib.cython_fib(100)"
     ],
     "language": "python",
     "metadata": {},
     "outputs": [
      {
       "output_type": "stream",
       "stream": "stdout",
       "text": [
        "3.54224848179e+20\n",
        "3.54224848179e+20\n",
        "3.54224848179e+20\n"
       ]
      }
     ],
     "prompt_number": 16
    },
    {
     "cell_type": "code",
     "collapsed": false,
     "input": [
      "%timeit -n 1000 ctypes_fib(100)\n",
      "%timeit -n 1000 bitey_fib.c_fib(100)\n",
      "%timeit -n 1000 cy_fib.cython_fib(100)"
     ],
     "language": "python",
     "metadata": {},
     "outputs": [
      {
       "output_type": "stream",
       "stream": "stdout",
       "text": [
        "1000 loops, best of 3: 97.3 \u00b5s per loop\n",
        "1000 loops, best of 3: 948 ns per loop\n",
        "1000 loops, best of 3: 263 ns per loop\n"
       ]
      }
     ],
     "prompt_number": 17
    },
    {
     "cell_type": "code",
     "collapsed": false,
     "input": [],
     "language": "python",
     "metadata": {},
     "outputs": [],
     "prompt_number": 17
    }
   ],
   "metadata": {}
  }
 ]
}
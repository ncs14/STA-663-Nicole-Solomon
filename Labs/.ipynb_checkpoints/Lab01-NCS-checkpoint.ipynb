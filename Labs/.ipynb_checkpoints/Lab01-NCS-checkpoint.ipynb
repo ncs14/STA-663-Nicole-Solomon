{
 "metadata": {
  "name": "",
  "signature": "sha256:5474b855b3b8bf60506e5c6d82e1b9f565f5a480e8da47851338fb58737bd55c"
 },
 "nbformat": 3,
 "nbformat_minor": 0,
 "worksheets": [
  {
   "cells": [
    {
     "cell_type": "code",
     "collapsed": false,
     "input": [
      "from IPython.display import Image"
     ],
     "language": "python",
     "metadata": {},
     "outputs": [],
     "prompt_number": 2
    },
    {
     "cell_type": "markdown",
     "metadata": {},
     "source": [
      "Computer lab\n",
      "----\n",
      "\n",
      "These exercises are designed to give you some practice coding in Python and proivde familiarity with the language syntax."
     ]
    },
    {
     "cell_type": "markdown",
     "metadata": {},
     "source": [
      "**Exercise 1 [10 pts]**. Write code to solve the [Project Euler puzzle 1](https://projecteuler.net/problems)"
     ]
    },
    {
     "cell_type": "code",
     "collapsed": false,
     "input": [
      "# Project Euler Puzzle 1:\n",
      "# If we list all the natural numbers below 10 that are multiples of 3 or 5, we get 3, 5, 6 and 9. The sum of these multiples is 23.\n",
      "# Find the sum of all the multiples of 3 or 5 below 1000.\n",
      "\n",
      "\"\"\" Sum of all multiples of 3 or 5 below 1000 \"\"\"\n",
      "mults = []\n",
      "lim = 1000\n",
      "for i in range(1,lim):\n",
      "    if i%3==0 or i%5==0:\n",
      "        mults.append(i)\n",
      "print(sum(mults))\n",
      "\n",
      "# x = [y for y in range(1,1001) if y%3==0 or y%5==0]\n",
      "#print(sum(x))"
     ],
     "language": "python",
     "metadata": {},
     "outputs": [
      {
       "output_type": "stream",
       "stream": "stdout",
       "text": [
        "233168\n"
       ]
      }
     ],
     "prompt_number": 3
    },
    {
     "cell_type": "markdown",
     "metadata": {},
     "source": [
      "**Exericse 2 [10 pts]**. Wikipedia gives the sample correlation coefficient formula as shown below. Write functions to calculate the sample mean, the sample standard deviation and the sample correlation coefficient. Calculate the sample correlation coefficent for the following lists of numbers:\n",
      "\n",
      "```python\n",
      "x = [10.0, 8.0, 13.0, 9.0, 11.0, 14.0, 6.0, 4.0, 12.0, 7.0, 5.0]\n",
      "y = [8.04, 6.95, 7.58, 8.81, 8.33, 9.96, 7.24, 4.26, 10.84, 4.82, 5.68]\n",
      "```\n",
      "\n",
      "Do NOT use `numpy`  functions - the idea is to code the functions yourself! The square root of $x$ can be calculated as ```x**0.5```."
     ]
    },
    {
     "cell_type": "code",
     "collapsed": false,
     "input": [
      "Image(url=\"http://upload.wikimedia.org/math/0/4/e/04e3ee493ddb1f01e03d8bf024fbd0a5.png\")"
     ],
     "language": "python",
     "metadata": {},
     "outputs": [
      {
       "html": [
        "<img src=\"http://upload.wikimedia.org/math/0/4/e/04e3ee493ddb1f01e03d8bf024fbd0a5.png\"/>"
       ],
       "metadata": {},
       "output_type": "pyout",
       "prompt_number": 4,
       "text": [
        "<IPython.core.display.Image at 0x7f41890b5f90>"
       ]
      }
     ],
     "prompt_number": 4
    },
    {
     "cell_type": "code",
     "collapsed": false,
     "input": [
      "Image(url=\"http://upload.wikimedia.org/math/7/0/d/70df5220933ae8298cd5ef1c719360bf.png\")"
     ],
     "language": "python",
     "metadata": {},
     "outputs": [
      {
       "html": [
        "<img src=\"http://upload.wikimedia.org/math/7/0/d/70df5220933ae8298cd5ef1c719360bf.png\"/>"
       ],
       "metadata": {},
       "output_type": "pyout",
       "prompt_number": 5,
       "text": [
        "<IPython.core.display.Image at 0x7f4188fda310>"
       ]
      }
     ],
     "prompt_number": 5
    },
    {
     "cell_type": "code",
     "collapsed": false,
     "input": [
      "x = [10.0, 8.0, 13.0, 9.0, 11.0, 14.0, 6.0, 4.0, 12.0, 7.0, 5.0]\n",
      "y = [8.04, 6.95, 7.58, 8.81, 8.33, 9.96, 7.24, 4.26, 10.84, 4.82, 5.68]\n",
      "\n",
      "\"\"\" Sample mean fcn \"\"\"\n",
      "def sample_mean(a):\n",
      "    return sum(a)/len(a)\n",
      "#print(sample_mean(x))\n",
      "#print(sample_mean(y))\n",
      "\n",
      "\"\"\" Sample standard dev fcn \"\"\"\n",
      "def sample_sd(a):\n",
      "    return sqrt(1/float(len(a)-1) * sum((a-sample_mean(a))**2) )\n",
      "#print(sample_sd(x))\n",
      "#print(sample_sd(y))\n",
      "\n",
      "\"\"\" Sample correlation coefficient fcn \"\"\"\n",
      "def sample_corr(a,b):\n",
      "    return 1/float(len(a)-1) * sum( (a-sample_mean(a))/float(sample_sd(a)) * (b-sample_mean(b))/float(sample_sd(b)) )\n",
      "print(sample_corr(x,y))\n",
      "\n",
      "#def sampcorr(u,v):\n",
      "#   prod=[((i-sampmean(u))/sampsd(u))*((j-sampmean(v))/sampsd(v)) for i,j in zip(u,v)]\n",
      "#   return 1./(len(u)-1)*sum(prod)"
     ],
     "language": "python",
     "metadata": {},
     "outputs": [
      {
       "output_type": "stream",
       "stream": "stdout",
       "text": [
        "9.0\n",
        "0.0\n"
       ]
      },
      {
       "metadata": {},
       "output_type": "pyout",
       "prompt_number": 28,
       "text": [
        "' Sample correlation coefficient fcn '"
       ]
      }
     ],
     "prompt_number": 28
    },
    {
     "cell_type": "markdown",
     "metadata": {},
     "source": [
      "**Exercise 3** [10 pts]. Write a function to calculate hailstone numbers.\n",
      "\n",
      "Start with any positive integer (an initial seed) and obtain a sequence of numbers by following these rules.\n",
      "\n",
      "1. Base case: If the number is 1, stop.\n",
      "2. Recursvie case: If the current number is even, divide it by two; else if it is odd, multiply it by three and add one. \n",
      "\n",
      "The seqeunce of numbers obtained are known as *hailstone numbers* - although it is not proven that all sequences will eventually terminate with 1 (Collatz conjecture), no couter-example has yet been found. \n",
      "\n",
      "For example, starting with 7, we get the seuqence 7, 22, 11, 34, 17, 52, 26, 13, 40, 20, 10, 5, 16, 8, 4, 2, 1, 4, 2, 1.\n",
      "\n",
      "A recursive function to find the sequence of hailstone nummbers is given below. Write a *non-recursvie* version of the function that gives the same result. Using your function, what is the length of the sequeence obtained when we start with 23?\n",
      "\n",
      "```python\n",
      "def hailstone(n, acc=None):\n",
      "    \"\"\"Given a positive integer n, return the series of hailstone numbers.\"\"\"\n",
      "    if acc is None:\n",
      "        acc = []\n",
      "    acc.append(n)\n",
      "    if n == 1:\n",
      "        return acc\n",
      "    else:\n",
      "        if n%2 == 0:\n",
      "            return hailstone(n/2, acc)\n",
      "        else:\n",
      "            return hailstone(n*3 + 1, acc)\n",
      "```"
     ]
    },
    {
     "cell_type": "code",
     "collapsed": false,
     "input": [
      "def hailstone(n):\n",
      "    \"\"\"Given a positive integer n, return the series of hailstone numbers.\"\"\"\n",
      "    acc = []\n",
      "    new = n\n",
      "    acc.append(new)\n",
      "    while new != 1:\n",
      "        if new%2 == 0:\n",
      "            new=new/2\n",
      "            acc.append(new)\n",
      "        else:\n",
      "            new=new*3+1\n",
      "            acc.append(new)\n",
      "    return acc\n",
      "\n",
      "#hailstone(7)\n",
      "hailstone(23)"
     ],
     "language": "python",
     "metadata": {},
     "outputs": [
      {
       "metadata": {},
       "output_type": "pyout",
       "prompt_number": 9,
       "text": [
        "[23, 70, 35, 106, 53, 160, 80, 40, 20, 10, 5, 16, 8, 4, 2, 1]"
       ]
      }
     ],
     "prompt_number": 9
    },
    {
     "cell_type": "markdown",
     "metadata": {},
     "source": [
      "**Exercise 4 [20 pts]**. A Caesar cipher replaces each in a string with the letter $k$ modulo 26 positions down. For example, with $k=3$, 'a' would become 'd', 'b' would become 'e' and so on. The Caesar cipher is very easy to crack, since the relative letter frequencies are preserved - that is, 'e' is the most commonly used English letter, so the most frequent letter in the cipher is likely to be the code for 'e'. We can download a large corpus of English text (e.g. a few books from Project Gutenberg), and estimate the individual letter frequencies. Using for example, a multinomial model where each letter is one of 26 possibiilites with frequencies given by the the previous estimates, and assuming that each letter is independent, we can simply go through all 26 possible values of $k$ and choose the model with the highest likelihood. Or just use $\\chi^2$ statistic to compare observed and expected frequencies.\n",
      "\n",
      "Have an extended exercise to write a Caesar encoder and code to crack the cipher. \n",
      "\n",
      "- Writing the encoder/decoder\n",
      "    - Convert a sentence to lowercase\n",
      "    - Write a function let2int to convert a lowercase letter to a number from 0 to 25\n",
      "        - Hint: look up ord() function\n",
      "    - Write the reverse function int2let to convert a number to a lowercase letter\n",
      "        - Hint: look up chr() function\n",
      "    - Write a functiton to encode a sentecne with shift k\n",
      "        - Hint: Use list comprehension with [ternary operator](https://docs.python.org/3.3/faq/programming.html#is-there-an-equivalent-of-c-s-ternary-operator) to check for lowercase letter\n",
      "    - Write a function to decode a sentence with shfit k\n",
      "        - HInt: Use the ecnode function\n",
      "    - Confirm that sentence = decode(encode(sentence))\n",
      "    \n",
      "- Writing the cracker\n",
      "    - Write a function to download a book from Project Gutenberg\n",
      "        - Hint: use\n",
      "        ```python\n",
      "        text = urllib2.urlopen('http://www.gutenberg.org/ebooks/1342.txt.utf-8').read()\n",
      "        ```\n",
      "    - Write a fucntion to estimte letter frequencies in text\n",
      "        - Hint: recall various ways to count letters in a string from Lecture 1\n",
      "    - Write a function to calculate the $\\chi^2$ statistic given observed and expected frequencies\n",
      "        - HInt: $\\chi^2 = \\sum_{i=1}{k} \\frac{(\\text{Observed} - \\text{Expected})^2}{\\text{Expected}}$\n",
      "    - Write a cracker to deecode encrypted text by choosing the shift $k$ with the smallest $\\chi^2$ score\n",
      "        - Hint: xs.index(min(xs)) gives location of minimumn value in the list xs"
     ]
    },
    {
     "cell_type": "code",
     "collapsed": false,
     "input": [
      "\"\"\"#################################\"\"\"\n",
      "\"\"\"### Convert letter to integer ###\"\"\"\n",
      "def let2int(let):\n",
      "    if 65<=ord(let)<=90:\n",
      "        '''upper case letters'''\n",
      "        intg=int(ord(let)-65)\n",
      "        lower=False\n",
      "    elif 97<=ord(let)<=122:\n",
      "        '''lower case letters'''\n",
      "        intg=int(ord(let)-97)\n",
      "        lower=True\n",
      "    else: \n",
      "        '''punctuation'''\n",
      "        intg=int(ord(let))\n",
      "        lower=False\n",
      "    return{ 'intg':intg, 'lower':lower}\n",
      "\n",
      "\"\"\"#################################\"\"\"\n",
      "\"\"\"### Convert integer to letter ###\"\"\"\n",
      "def int2let(intg,lower):\n",
      "    if 0<=intg<=25: # nums 0-25 are letters\n",
      "        # check case\n",
      "        if lower==True:\n",
      "            return chr(intg+97)\n",
      "        elif lower==False:\n",
      "            return chr(intg+65)\n",
      "    else: # ow return integer of punctuation\n",
      "        return chr(intg)\n",
      "\n",
      "\"\"\"#################################\"\"\"\n",
      "\"\"\"### Caesar encoder ###\"\"\"\n",
      "def encode(strg,k):\n",
      "    # Convert letters to numbers\n",
      "    intstrg = map(let2int,strg)\n",
      "    # Retain only the integers\n",
      "    ints = map(lambda x:x['intg'],intstrg)\n",
      "    # Shift integers by k and then % 26\n",
      "    shiftints = [(x+k)%26 if x in range(0,26) else x for x in ints]\n",
      "    # Identify which letters were originally upper/lower case\n",
      "    cases = map(lambda z:z['lower'],intstrg)\n",
      "    # Convert numbers back to letters\n",
      "    lettstrg = map(int2let,shiftints,cases)\n",
      "    # Recreate a text string (from the current list of letters)\n",
      "    newstrg = ''.join(lettstrg)\n",
      "    return newstrg\n",
      "\n",
      "\"\"\"#################################\"\"\"\n",
      "\"\"\"### Caesar decoder ###\"\"\"\n",
      "def decode(strg,k):\n",
      "    return encode(strg,-k)\n",
      "\n",
      "\"\"\"#################################\"\"\"\n",
      "\"\"\"### DL book ###\"\"\"\n",
      "def bookdl(url):\n",
      "    ### Import urllib2 library\n",
      "    import urllib2\n",
      "    ### Read url\n",
      "    text = urllib2.urlopen(url).read()\n",
      "    return text\n",
      "\n",
      "\"\"\"#################################\"\"\"\n",
      "\"\"\"### Count letters ###\"\"\"\n",
      "def lettercount(text):\n",
      "    ### Import string library\n",
      "    import string\n",
      "    # Count frequencies of characters in text\n",
      "    counter = {}\n",
      "    # Drop punctuation and make all letters lower case\n",
      "    text2 = text.translate(None, string.punctuation).lower()\n",
      "    text3 = [x for x in text2 if x.isalpha()]\n",
      "    # Count frequency of letters present in text\n",
      "    for char in text3:\n",
      "       counter[char] = counter.get(char,0)+1\n",
      "    return counter\n",
      "\n",
      "\"\"\"#################################\"\"\"\n",
      "\"\"\"### Chi-square stat estimation ###\"\"\"\n",
      "def chistat(strg):\n",
      "    # Observed frequencies of letters in text\n",
      "    obs = lettercount(strg)\n",
      "    # Define dict of known relative frequencies of letters in English text\n",
      "    import string\n",
      "    letters=list(string.ascii_lowercase)\n",
      "    relfreqs=[0.08167,0.01492,0.02782,0.04253,0.12702,0.02228,0.02015,0.06094,0.06966,0.00153,0.00772,0.04025,\n",
      "              0.02406,0.06749,0.07507,0.01929,0.00095,0.05987,0.06327,0.09056,0.02758,0.00978,0.02360,0.0015,\n",
      "              0.01974,0.00074]\n",
      "    # Expected frequencies = relfreq * length of text\n",
      "    strg_length = sum(map(str.isalpha,strg))\n",
      "    expfreqs = [x*float(strg_length) for x in relfreqs]\n",
      "    expdict = {x: y for x,y in zip(letters,expfreqs)}\n",
      "    # Expected frequencies of letters in text\n",
      "    exp = dict((a,expdict[a]) for a in obs.keys())\n",
      "    #for i in range(1,len(obs)+1):\n",
      "    stat = 0\n",
      "    for a in obs.keys():\n",
      "        stat += power(obs[a]-exp[a],2)/exp[a]\n",
      "    return stat\n",
      "\n",
      "\"\"\"#################################\"\"\"\n",
      "\"\"\"### Cipher cracker ###\"\"\"\n",
      "def codecracker(strg):\n",
      "    # list to hold chisq stat of each iteration of k decoding\n",
      "    chistats=[]\n",
      "    for k in range(0,26):\n",
      "        # decode string with shift k\n",
      "        decode_strg = decode(strg,k)\n",
      "        # compute chisq stat of decoded string\n",
      "        xstat = chistat(decode_strg)\n",
      "        # store the chisq stat\n",
      "        chistats.append(xstat)\n",
      "    # identify and return the shift k with min chisq stat\n",
      "    mink = chistats.index(min(chistats))\n",
      "    return mink\n",
      "\n",
      "\n",
      "\n",
      "'''-------- Test encoder/decoder --------'''\n",
      "s = \"Test Caesar cipher part 123.\"\n",
      "# encode with shift 1\n",
      "s_encoded = encode(s,1)\n",
      "# decode with shift 1\n",
      "s_decoded=decode(s_encoded,1)\n",
      "#print(s)\n",
      "#print(s_encoded)\n",
      "#print(s_decoded)\n",
      "#print(decode(encode(s,1),1))\n",
      "\n",
      "'''-------- DL book --------'''\n",
      "urllink='http://www.gutenberg.org/ebooks/1342.txt.utf-8'\n",
      "jabook=bookdl(urllink)\n",
      "\n",
      "'''-------- Test chisq stat --------'''\n",
      "#chistat(s)\n",
      "\n",
      "'''-------- Test code cracker --------'''\n",
      "# NOTE: code cracker doesn't work on small strings!!!\n",
      "#s2 = \"Read a book\"\n",
      "#s2_encode = encode(s2,2)\n",
      "#print(s2)\n",
      "#print(codecracker(s2_encode))\n",
      "s_encode = encode(s,22)\n",
      "#print(codecracker(s_encode))\n",
      "\n",
      "'''-------- Apply code cracker to book --------'''\n",
      "book_encoded = encode(jabook,11)\n",
      "print(codecracker(book_encoded))\n",
      "#print(jabook)"
     ],
     "language": "python",
     "metadata": {},
     "outputs": [
      {
       "output_type": "stream",
       "stream": "stdout",
       "text": [
        "11\n"
       ]
      }
     ],
     "prompt_number": 8
    },
    {
     "cell_type": "code",
     "collapsed": false,
     "input": [],
     "language": "python",
     "metadata": {},
     "outputs": []
    }
   ],
   "metadata": {}
  }
 ]
}
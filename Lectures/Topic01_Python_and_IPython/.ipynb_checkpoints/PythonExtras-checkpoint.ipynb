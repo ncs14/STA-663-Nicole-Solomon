{
 "metadata": {
  "name": "",
  "signature": "sha256:258b2deadfa45dcb1448378d60d239280adef93dc227ee6ccc3ce837ca2a400b"
 },
 "nbformat": 3,
 "nbformat_minor": 0,
 "worksheets": []
}
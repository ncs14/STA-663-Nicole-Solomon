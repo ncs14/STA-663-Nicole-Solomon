{
 "metadata": {
  "name": "",
  "signature": "sha256:c6cf940e4352a00901e4b71810d9862c349a2e7dd8ce57d48087ce13586452ff"
 },
 "nbformat": 3,
 "nbformat_minor": 0,
 "worksheets": [
  {
   "cells": [
    {
     "cell_type": "code",
     "collapsed": false,
     "input": [
      "%ls"
     ],
     "language": "python",
     "metadata": {},
     "outputs": [
      {
       "output_type": "stream",
       "stream": "stdout",
       "text": [
        "\u001b[0m\u001b[01;34mLabs\u001b[0m/  \u001b[01;34mLectures\u001b[0m/  README.md  Untitled1.ipynb\r\n"
       ]
      }
     ],
     "prompt_number": 1
    },
    {
     "cell_type": "code",
     "collapsed": false,
     "input": [
      "cd Lectures"
     ],
     "language": "python",
     "metadata": {},
     "outputs": [
      {
       "output_type": "stream",
       "stream": "stdout",
       "text": [
        "/home/bitnami/STA-663-Nicole-Solomon/Lectures\n"
       ]
      }
     ],
     "prompt_number": 2
    },
    {
     "cell_type": "code",
     "collapsed": false,
     "input": [
      "%ls"
     ],
     "language": "python",
     "metadata": {},
     "outputs": [
      {
       "output_type": "stream",
       "stream": "stdout",
       "text": [
        "\u001b[0m\u001b[01;34mTopic01_Python_and_IPython\u001b[0m/      \u001b[01;34mTopic04_Numpy_and_Pandas\u001b[0m/\r\n",
        "\u001b[01;34mTopic02_Functional_Programming\u001b[0m/  \u001b[01;34mTopic05_Math_and_Computing\u001b[0m/\r\n",
        "\u001b[01;34mTopic03_Data_Munging\u001b[0m/\r\n"
       ]
      }
     ],
     "prompt_number": 3
    },
    {
     "cell_type": "code",
     "collapsed": false,
     "input": [
      "cd Topic02_Functional_Programming/"
     ],
     "language": "python",
     "metadata": {},
     "outputs": [
      {
       "output_type": "stream",
       "stream": "stdout",
       "text": [
        "/home/bitnami/STA-663-Nicole-Solomon/Lectures/Topic02_Functional_Programming\n"
       ]
      }
     ],
     "prompt_number": 4
    },
    {
     "cell_type": "code",
     "collapsed": false,
     "input": [
      "%ls"
     ],
     "language": "python",
     "metadata": {},
     "outputs": [
      {
       "output_type": "stream",
       "stream": "stdout",
       "text": [
        "alice.txt  dict1.pic  foo.txt  Functions.ipynb  TextProcessing.ipynb\r\n"
       ]
      }
     ],
     "prompt_number": 5
    },
    {
     "cell_type": "code",
     "collapsed": false,
     "input": [
      "rsync -a /home/bitnami/STA663-2015/Lectures/Topic03_Data_Munging/ /home/bitnami/STA-663-Nicole-Solomon/Lectures/Topic03_Data_Munging/"
     ],
     "language": "python",
     "metadata": {},
     "outputs": [
      {
       "ename": "SyntaxError",
       "evalue": "invalid syntax (<ipython-input-6-f2d13733a3ff>, line 1)",
       "output_type": "pyerr",
       "traceback": [
        "\u001b[1;36m  File \u001b[1;32m\"<ipython-input-6-f2d13733a3ff>\"\u001b[1;36m, line \u001b[1;32m1\u001b[0m\n\u001b[1;33m    rsync -a /home/bitnami/STA663-2015/Lectures/Topic03_Data_Munging/ /home/bitnami/STA-663-Nicole-Solomon/Lectures/Topic03_Data_Munging/\u001b[0m\n\u001b[1;37m                                                                      ^\u001b[0m\n\u001b[1;31mSyntaxError\u001b[0m\u001b[1;31m:\u001b[0m invalid syntax\n"
       ]
      }
     ],
     "prompt_number": 6
    },
    {
     "cell_type": "code",
     "collapsed": false,
     "input": [
      "%ls"
     ],
     "language": "python",
     "metadata": {},
     "outputs": [
      {
       "output_type": "stream",
       "stream": "stdout",
       "text": [
        "alice.txt  dict1.pic  foo.txt  Functions.ipynb  TextProcessing.ipynb\r\n"
       ]
      }
     ],
     "prompt_number": 7
    },
    {
     "cell_type": "code",
     "collapsed": false,
     "input": [
      "cd .."
     ],
     "language": "python",
     "metadata": {},
     "outputs": [
      {
       "output_type": "stream",
       "stream": "stdout",
       "text": [
        "/home/bitnami/STA-663-Nicole-Solomon/Lectures\n"
       ]
      }
     ],
     "prompt_number": 8
    },
    {
     "cell_type": "code",
     "collapsed": false,
     "input": [
      "cd .."
     ],
     "language": "python",
     "metadata": {},
     "outputs": [
      {
       "output_type": "stream",
       "stream": "stdout",
       "text": [
        "/home/bitnami/STA-663-Nicole-Solomon\n"
       ]
      }
     ],
     "prompt_number": 9
    },
    {
     "cell_type": "code",
     "collapsed": false,
     "input": [
      "%ls"
     ],
     "language": "python",
     "metadata": {},
     "outputs": [
      {
       "output_type": "stream",
       "stream": "stdout",
       "text": [
        "\u001b[0m\u001b[01;34mLabs\u001b[0m/  \u001b[01;34mLectures\u001b[0m/  README.md  Untitled1.ipynb\r\n"
       ]
      }
     ],
     "prompt_number": 10
    },
    {
     "cell_type": "code",
     "collapsed": false,
     "input": [
      "cd Lectures"
     ],
     "language": "python",
     "metadata": {},
     "outputs": [
      {
       "output_type": "stream",
       "stream": "stdout",
       "text": [
        "/home/bitnami/STA-663-Nicole-Solomon/Lectures\n"
       ]
      }
     ],
     "prompt_number": 11
    },
    {
     "cell_type": "code",
     "collapsed": false,
     "input": [
      "cd Topic03_Data_Munging/"
     ],
     "language": "python",
     "metadata": {},
     "outputs": [
      {
       "output_type": "stream",
       "stream": "stdout",
       "text": [
        "/home/bitnami/STA-663-Nicole-Solomon/Lectures/Topic03_Data_Munging\n"
       ]
      }
     ],
     "prompt_number": 12
    },
    {
     "cell_type": "code",
     "collapsed": false,
     "input": [
      "%ls"
     ],
     "language": "python",
     "metadata": {},
     "outputs": [
      {
       "output_type": "stream",
       "stream": "stdout",
       "text": [
        "alice.txt     Chinook.db     DataProcessing.ipynb  example.hdf5  mystery.hdf5\r\n",
        "bad_data.csv  clean_ugh.csv  example.csv           example.json  ugh.csv\r\n"
       ]
      }
     ],
     "prompt_number": 13
    },
    {
     "cell_type": "code",
     "collapsed": false,
     "input": [
      "rsync -a /home/bitnami/STA663-2015/Lectures/Topic03_Data_Munging/"
     ],
     "language": "python",
     "metadata": {},
     "outputs": [
      {
       "ename": "SyntaxError",
       "evalue": "invalid syntax (<ipython-input-14-652d2e73970c>, line 1)",
       "output_type": "pyerr",
       "traceback": [
        "\u001b[1;36m  File \u001b[1;32m\"<ipython-input-14-652d2e73970c>\"\u001b[1;36m, line \u001b[1;32m1\u001b[0m\n\u001b[1;33m    rsync -a /home/bitnami/STA663-2015/Lectures/Topic03_Data_Munging/\u001b[0m\n\u001b[1;37m                                                                     ^\u001b[0m\n\u001b[1;31mSyntaxError\u001b[0m\u001b[1;31m:\u001b[0m invalid syntax\n"
       ]
      }
     ],
     "prompt_number": 14
    },
    {
     "cell_type": "code",
     "collapsed": false,
     "input": [
      "%ls"
     ],
     "language": "python",
     "metadata": {},
     "outputs": [
      {
       "output_type": "stream",
       "stream": "stdout",
       "text": [
        "alice.txt     Chinook.db     DataProcessing.ipynb  example.hdf5  mystery.hdf5\r\n",
        "bad_data.csv  clean_ugh.csv  example.csv           example.json  ugh.csv\r\n"
       ]
      }
     ],
     "prompt_number": 15
    },
    {
     "cell_type": "code",
     "collapsed": false,
     "input": [
      "cd ..\n",
      "%ls"
     ],
     "language": "python",
     "metadata": {},
     "outputs": [
      {
       "ename": "SyntaxError",
       "evalue": "invalid syntax (<ipython-input-16-d4c289806606>, line 1)",
       "output_type": "pyerr",
       "traceback": [
        "\u001b[1;36m  File \u001b[1;32m\"<ipython-input-16-d4c289806606>\"\u001b[1;36m, line \u001b[1;32m1\u001b[0m\n\u001b[1;33m    cd ..\u001b[0m\n\u001b[1;37m        ^\u001b[0m\n\u001b[1;31mSyntaxError\u001b[0m\u001b[1;31m:\u001b[0m invalid syntax\n"
       ]
      }
     ],
     "prompt_number": 16
    },
    {
     "cell_type": "code",
     "collapsed": false,
     "input": [
      "cd .."
     ],
     "language": "python",
     "metadata": {},
     "outputs": [
      {
       "output_type": "stream",
       "stream": "stdout",
       "text": [
        "/home/bitnami/STA-663-Nicole-Solomon/Lectures\n"
       ]
      }
     ],
     "prompt_number": 17
    },
    {
     "cell_type": "code",
     "collapsed": false,
     "input": [
      "%ls"
     ],
     "language": "python",
     "metadata": {},
     "outputs": [
      {
       "output_type": "stream",
       "stream": "stdout",
       "text": [
        "\u001b[0m\u001b[01;34mTopic01_Python_and_IPython\u001b[0m/      \u001b[01;34mTopic04_Numpy_and_Pandas\u001b[0m/\r\n",
        "\u001b[01;34mTopic02_Functional_Programming\u001b[0m/  \u001b[01;34mTopic05_Math_and_Computing\u001b[0m/\r\n",
        "\u001b[01;34mTopic03_Data_Munging\u001b[0m/\r\n"
       ]
      }
     ],
     "prompt_number": 18
    },
    {
     "cell_type": "code",
     "collapsed": false,
     "input": [
      "cp -r /home/bitnami/STA663-2015/Lectures/Topic03_Data_Munging/ /home/bitnami/STA-663-Nicole-Solomon/Lectures/"
     ],
     "language": "python",
     "metadata": {},
     "outputs": [],
     "prompt_number": 19
    },
    {
     "cell_type": "code",
     "collapsed": false,
     "input": [
      "%ls"
     ],
     "language": "python",
     "metadata": {},
     "outputs": [
      {
       "output_type": "stream",
       "stream": "stdout",
       "text": [
        "\u001b[0m\u001b[01;34mTopic01_Python_and_IPython\u001b[0m/      \u001b[01;34mTopic04_Numpy_and_Pandas\u001b[0m/\r\n",
        "\u001b[01;34mTopic02_Functional_Programming\u001b[0m/  \u001b[01;34mTopic05_Math_and_Computing\u001b[0m/\r\n",
        "\u001b[01;34mTopic03_Data_Munging\u001b[0m/\r\n"
       ]
      }
     ],
     "prompt_number": 20
    },
    {
     "cell_type": "code",
     "collapsed": false,
     "input": [
      "cd Topic03_Data_Munging/"
     ],
     "language": "python",
     "metadata": {},
     "outputs": [
      {
       "output_type": "stream",
       "stream": "stdout",
       "text": [
        "/home/bitnami/STA-663-Nicole-Solomon/Lectures/Topic03_Data_Munging\n"
       ]
      }
     ],
     "prompt_number": 21
    },
    {
     "cell_type": "code",
     "collapsed": false,
     "input": [
      "%ls"
     ],
     "language": "python",
     "metadata": {},
     "outputs": [
      {
       "output_type": "stream",
       "stream": "stdout",
       "text": [
        "alice.txt                       example.hdf5\r\n",
        "bad_data.csv                    example.json\r\n",
        "Chinook.db                      mystery.hdf5\r\n",
        "clean_ugh.csv                   TextProcessingExtras.ipynb\r\n",
        "DataProcessing.ipynb            TextProcessing.ipynb\r\n",
        "DataProcessing-Solutions.ipynb  ugh.csv\r\n",
        "example.csv                     WorkingWithStructuredData.ipynb\r\n"
       ]
      }
     ],
     "prompt_number": 22
    },
    {
     "cell_type": "code",
     "collapsed": false,
     "input": [
      "cd .."
     ],
     "language": "python",
     "metadata": {},
     "outputs": [
      {
       "output_type": "stream",
       "stream": "stdout",
       "text": [
        "/home/bitnami/STA-663-Nicole-Solomon/Lectures\n"
       ]
      }
     ],
     "prompt_number": 23
    },
    {
     "cell_type": "code",
     "collapsed": false,
     "input": [
      "cd Topic02_Functional_Programming/"
     ],
     "language": "python",
     "metadata": {},
     "outputs": [
      {
       "output_type": "stream",
       "stream": "stdout",
       "text": [
        "/home/bitnami/STA-663-Nicole-Solomon/Lectures/Topic02_Functional_Programming\n"
       ]
      }
     ],
     "prompt_number": 24
    },
    {
     "cell_type": "code",
     "collapsed": false,
     "input": [
      "%ls"
     ],
     "language": "python",
     "metadata": {},
     "outputs": [
      {
       "output_type": "stream",
       "stream": "stdout",
       "text": [
        "alice.txt  dict1.pic  foo.txt  Functions.ipynb  TextProcessing.ipynb\r\n"
       ]
      }
     ],
     "prompt_number": 25
    },
    {
     "cell_type": "code",
     "collapsed": false,
     "input": [
      "%ls"
     ],
     "language": "python",
     "metadata": {},
     "outputs": [
      {
       "output_type": "stream",
       "stream": "stdout",
       "text": [
        "alice.txt  foo.txt          Functions-Solutions.ipynb\r\n",
        "dict1.pic  Functions.ipynb  TextProcessing.ipynb\r\n"
       ]
      }
     ],
     "prompt_number": 26
    },
    {
     "cell_type": "code",
     "collapsed": false,
     "input": [
      "cd .."
     ],
     "language": "python",
     "metadata": {},
     "outputs": [
      {
       "output_type": "stream",
       "stream": "stdout",
       "text": [
        "/home/bitnami/STA-663-Nicole-Solomon/Lectures\n"
       ]
      }
     ],
     "prompt_number": 27
    },
    {
     "cell_type": "code",
     "collapsed": false,
     "input": [
      "cd Topic03_Data_Munging/"
     ],
     "language": "python",
     "metadata": {},
     "outputs": [
      {
       "output_type": "stream",
       "stream": "stdout",
       "text": [
        "/home/bitnami/STA-663-Nicole-Solomon/Lectures/Topic03_Data_Munging\n"
       ]
      }
     ],
     "prompt_number": 28
    },
    {
     "cell_type": "code",
     "collapsed": false,
     "input": [
      "%ls"
     ],
     "language": "python",
     "metadata": {},
     "outputs": [
      {
       "output_type": "stream",
       "stream": "stdout",
       "text": [
        "alice.txt                       example.hdf5\r\n",
        "bad_data.csv                    example.json\r\n",
        "Chinook.db                      mystery.hdf5\r\n",
        "clean_ugh.csv                   TextProcessingExtras.ipynb\r\n",
        "DataProcessing.ipynb            TextProcessing.ipynb\r\n",
        "DataProcessing-Solutions.ipynb  ugh.csv\r\n",
        "example.csv                     WorkingWithStructuredData.ipynb\r\n"
       ]
      }
     ],
     "prompt_number": 29
    },
    {
     "cell_type": "code",
     "collapsed": false,
     "input": [
      "cp /home/bitnami/STA-663-Nicole-Solomon/Lectures/Topic02_Functional_Programming/TextProcessing.ipynb /home/bitnami/STA-663-Nicole-Solomon/Lectures/Topic03_Data_Munging/TextProcessing.ipynb"
     ],
     "language": "python",
     "metadata": {},
     "outputs": [],
     "prompt_number": 30
    },
    {
     "cell_type": "code",
     "collapsed": false,
     "input": [
      "%ls"
     ],
     "language": "python",
     "metadata": {},
     "outputs": [
      {
       "output_type": "stream",
       "stream": "stdout",
       "text": [
        "alice.txt                       example.hdf5\r\n",
        "bad_data.csv                    example.json\r\n",
        "Chinook.db                      mystery.hdf5\r\n",
        "clean_ugh.csv                   TextProcessingExtras.ipynb\r\n",
        "DataProcessing.ipynb            TextProcessing.ipynb\r\n",
        "DataProcessing-Solutions.ipynb  ugh.csv\r\n",
        "example.csv                     WorkingWithStructuredData.ipynb\r\n"
       ]
      }
     ],
     "prompt_number": 31
    },
    {
     "cell_type": "code",
     "collapsed": false,
     "input": [],
     "language": "python",
     "metadata": {},
     "outputs": []
    }
   ],
   "metadata": {}
  }
 ]
}
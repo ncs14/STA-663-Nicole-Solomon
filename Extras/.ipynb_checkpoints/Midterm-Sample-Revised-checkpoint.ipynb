{
 "metadata": {
  "name": "",
  "signature": "sha256:a5dd11073e1d0e10ee76b322b34539b7c60015b8b8b8dfefb328cac1f824bf70"
 },
 "nbformat": 3,
 "nbformat_minor": 0,
 "worksheets": [
  {
   "cells": [
    {
     "cell_type": "markdown",
     "metadata": {},
     "source": [
      "Instructions\n",
      "----\n",
      "\n",
      "This is a \"closed book\" examination - in particular, you are not to use any resources outside of this notebook (except possibly pen and paper). You may consult help from within the notebook using ? but not any online references. You should turn wireless off or set your laptop in \"Airplane\" mode prior to taking the exam. \n",
      "\n",
      "You have 1 hour and 45 minutes to complete the exam.\n",
      "\n",
      "**Please make a copy of the notebook (File | Make a copy), and rename it to be `midterm-firstanme-lastname`. At the end of the exam, save to your Sakai Dropbox - any files with modification date beyond the end-of-exam time will not be graded.**"
     ]
    },
    {
     "cell_type": "code",
     "collapsed": false,
     "input": [
      "import os\n",
      "import sys\n",
      "import glob\n",
      "import matplotlib.pyplot as plt\n",
      "import numpy as np\n",
      "import pandas as pd\n",
      "%matplotlib inline\n",
      "plt.style.use('ggplot')"
     ],
     "language": "python",
     "metadata": {},
     "outputs": [],
     "prompt_number": 1
    },
    {
     "cell_type": "code",
     "collapsed": false,
     "input": [
      "np.set_printoptions(formatter={'float': '{: 0.3f}'.format})"
     ],
     "language": "python",
     "metadata": {},
     "outputs": [],
     "prompt_number": 2
    },
    {
     "cell_type": "code",
     "collapsed": false,
     "input": [
      "%load_ext rpy2.ipython"
     ],
     "language": "python",
     "metadata": {},
     "outputs": [],
     "prompt_number": 3
    },
    {
     "cell_type": "markdown",
     "metadata": {},
     "source": [
      "**Question 1 (10 points)**. \n",
      "\n",
      "Euclid's algorithm for finding the greatest common divisor of two numbers is\n",
      "\n",
      "```python\n",
      "gcd(a, 0) = a\n",
      "gcd(a, b) = gcd(b, a modulo b)\n",
      "```\n",
      "\n",
      "1. Write a function to find the greatest common divisor in Python (4 points)\n",
      "2. What is the greatest common divisor of 17384 and 1928? (1 point)\n",
      "3. Write a function to calculate the least common multiple (4 points)\n",
      "4. What is the least common multiple of 17384 and 1928? (1 point)"
     ]
    },
    {
     "cell_type": "code",
     "collapsed": false,
     "input": [
      "import fractions as fr\n",
      "fr.gcd(121,33)\n",
      "b = 121%33\n",
      "print b\n",
      "fr.gcd(33,b)\n",
      "b2 = 33%22\n",
      "print b2\n",
      "fr.gcd(b,b2)\n",
      "fr.gcd(4,12)\n",
      "fr.gcd(-4,-12)"
     ],
     "language": "python",
     "metadata": {},
     "outputs": [
      {
       "output_type": "stream",
       "stream": "stdout",
       "text": [
        "22\n",
        "11\n"
       ]
      },
      {
       "metadata": {},
       "output_type": "pyout",
       "prompt_number": 4,
       "text": [
        "-4"
       ]
      }
     ],
     "prompt_number": 4
    },
    {
     "cell_type": "code",
     "collapsed": false,
     "input": [
      "# 1.\n",
      "def gcd(a,b=0):\n",
      "    \"\"\" Greatest common divisor computation \"\"\"\n",
      "    # if GCD of single num, return num\n",
      "    if (a!=0 and b==0) or (a==0 and b!=0) or (a==0 and b==0):\n",
      "        return max(a,b)\n",
      "    # if a or b == factor of b or a, return min(a,b)\n",
      "    elif (a%b == 0) or (b%a == 0):\n",
      "        return min(a,b)\n",
      "    else:\n",
      "        temp = max(a,b)%min(a,b)\n",
      "        return gcd(min(a,b),temp)"
     ],
     "language": "python",
     "metadata": {},
     "outputs": [],
     "prompt_number": 5
    },
    {
     "cell_type": "code",
     "collapsed": false,
     "input": [
      "# 2.\n",
      "print \"GCD of 17384 and 1928:\", gcd(17384,1928)"
     ],
     "language": "python",
     "metadata": {},
     "outputs": [
      {
       "output_type": "stream",
       "stream": "stdout",
       "text": [
        "GCD of 17384 and 1928: 8\n"
       ]
      }
     ],
     "prompt_number": 6
    },
    {
     "cell_type": "code",
     "collapsed": false,
     "input": [
      "#15 6\n",
      "6/gcd(15,6) * 15\n",
      "#18 5\n",
      "5/gcd(18,5) * 18\n",
      "#18 12\n",
      "12/gcd(18,12) * 18\n",
      "#24 12\n",
      "12/gcd(24,12) * 24"
     ],
     "language": "python",
     "metadata": {},
     "outputs": [
      {
       "metadata": {},
       "output_type": "pyout",
       "prompt_number": 7,
       "text": [
        "24"
       ]
      }
     ],
     "prompt_number": 7
    },
    {
     "cell_type": "code",
     "collapsed": false,
     "input": [
      "# 3.\n",
      "def lcm(a,b=0):\n",
      "    \"\"\" Least common multiple computation \"\"\"\n",
      "    # if lcm of single num, return num\n",
      "    if (a!=0 and b==0) or (a==0 and b!=0) or (a==0 and b==0):\n",
      "        return max(a,b)\n",
      "    # if a or b == factor of b or a, return min(a,b)\n",
      "    elif (a%b == 0) or (b%a == 0):\n",
      "        return max(a,b)\n",
      "    else:\n",
      "        return (a*b)/gcd(a,b)"
     ],
     "language": "python",
     "metadata": {},
     "outputs": [],
     "prompt_number": 8
    },
    {
     "cell_type": "code",
     "collapsed": false,
     "input": [
      "# 4.\n",
      "print \"LCM of 17384 and 1928:\", lcm(17384,1928)"
     ],
     "language": "python",
     "metadata": {},
     "outputs": [
      {
       "output_type": "stream",
       "stream": "stdout",
       "text": [
        "LCM of 17384 and 1928: 4189544\n"
       ]
      }
     ],
     "prompt_number": 9
    },
    {
     "cell_type": "markdown",
     "metadata": {},
     "source": [
      "**Question 2 (10 points)**. \n",
      "\n",
      "Consider the following matrix $A$ with dimensions (4,6), to be interpreted as 4 rows of the measurements of 6 features.\n",
      "```python\n",
      "np.array([[5, 5, 2, 6, 2, 0],\n",
      "          [8, 6, 7, 8, 9, 7],\n",
      "          [9, 5, 0, 4, 6, 8],\n",
      "          [8, 7, 9, 3, 6, 1]])\n",
      "```\n",
      "\n",
      "1. Add 1 to the first row, 2 to the second row, 3 to the third row and 4 to the fourth row using a vector `v = np.array([1,2,3,4])` and broadcasting. (2 points)\n",
      "2. Normalize A so that its row means are all 0 and call it A1. (2 points)\n",
      "3. What are the singular values of A1? (2 points)\n",
      "4. What are the eigenvalues of the covariance matrix of A1? (2 points)\n",
      "5. Find the least squares solution vector $x$ if $Ax = y$ where `y = np.array([1,2,3,4]).T` (2 points)"
     ]
    },
    {
     "cell_type": "code",
     "collapsed": false,
     "input": [
      "A = np.array([[5, 5, 2, 6, 2, 0],\n",
      "          [8, 6, 7, 8, 9, 7],\n",
      "          [9, 5, 0, 4, 6, 8],\n",
      "          [8, 7, 9, 3, 6, 1]])\n",
      "A.shape"
     ],
     "language": "python",
     "metadata": {},
     "outputs": [
      {
       "metadata": {},
       "output_type": "pyout",
       "prompt_number": 156,
       "text": [
        "(4, 6)"
       ]
      }
     ],
     "prompt_number": 156
    },
    {
     "cell_type": "code",
     "collapsed": false,
     "input": [
      "# 1.\n",
      "v = np.array([1,2,3,4])\n",
      "A + v[:,np.newaxis]"
     ],
     "language": "python",
     "metadata": {},
     "outputs": [
      {
       "metadata": {},
       "output_type": "pyout",
       "prompt_number": 157,
       "text": [
        "array([[ 6,  6,  3,  7,  3,  1],\n",
        "       [10,  8,  9, 10, 11,  9],\n",
        "       [12,  8,  3,  7,  9, 11],\n",
        "       [12, 11, 13,  7, 10,  5]])"
       ]
      }
     ],
     "prompt_number": 157
    },
    {
     "cell_type": "code",
     "collapsed": false,
     "input": [
      "# 2.\n",
      "ameans = A.mean(axis=1)\n",
      "print ameans, \"\\n\"\n",
      "\n",
      "A1 = A - ameans[:,np.newaxis]\n",
      "print \"\\n A1= \\n\", A1, \"\\n\"\n",
      "print A1.mean(axis=1)"
     ],
     "language": "python",
     "metadata": {},
     "outputs": [
      {
       "output_type": "stream",
       "stream": "stdout",
       "text": [
        "[ 3.333  7.500  5.333  5.667] \n",
        "\n",
        "\n",
        " A1= \n",
        "[[ 1.667  1.667 -1.333  2.667 -1.333 -3.333]\n",
        " [ 0.500 -1.500 -0.500  0.500  1.500 -0.500]\n",
        " [ 3.667 -0.333 -5.333 -1.333  0.667  2.667]\n",
        " [ 2.333  1.333  3.333 -2.667  0.333 -4.667]] \n",
        "\n",
        "[-0.000  0.000  0.000 -0.000]\n"
       ]
      }
     ],
     "prompt_number": 158
    },
    {
     "cell_type": "code",
     "collapsed": false,
     "input": [
      "# 3.\n",
      "import scipy.linalg as la\n",
      "np.linalg.matrix_rank(A1)\n",
      "print \"Singular values of A1:\", la.svd(A1)[1]"
     ],
     "language": "python",
     "metadata": {},
     "outputs": [
      {
       "output_type": "stream",
       "stream": "stdout",
       "text": [
        "Singular values of A1: [ 8.317  5.975  4.635  2.268]\n"
       ]
      }
     ],
     "prompt_number": 159
    },
    {
     "cell_type": "code",
     "collapsed": false,
     "input": [
      "# 4. \n",
      "cA1 = np.cov(A1) # == A1.T*A1/(n-1) where A1 has row mean 0\n",
      "print \"Eigenvalues of Cov(A1):\\n\", np.real_if_close(la.eig(cA1)[0])"
     ],
     "language": "python",
     "metadata": {},
     "outputs": [
      {
       "output_type": "stream",
       "stream": "stdout",
       "text": [
        "Eigenvalues of Cov(A1):\n",
        "[ 13.833  7.141  4.297  1.029]\n"
       ]
      }
     ],
     "prompt_number": 160
    },
    {
     "cell_type": "code",
     "collapsed": false,
     "input": [
      "# 5. Find the least squares solution vector x if Ax=y where y = np.array([1,2,3,4]).T\n",
      "y = np.array([1,2,3,4]).T\n",
      "\n",
      "x = la.lstsq(A,y)[0]\n",
      "print \"LS soln: x=\", x\n",
      "print \"Ax =\", np.dot(A,x), \"=\", y, \"=y\""
     ],
     "language": "python",
     "metadata": {},
     "outputs": [
      {
       "output_type": "stream",
       "stream": "stdout",
       "text": [
        "LS soln: x= [ 0.360  0.209  0.057 -0.336  0.028 -0.014]\n",
        "Ax = [ 1.000  2.000  3.000  4.000] = [1 2 3 4] =y\n"
       ]
      }
     ],
     "prompt_number": 161
    },
    {
     "cell_type": "code",
     "collapsed": false,
     "input": [
      "# alternative, long way:\n",
      "xt = la.solve(np.dot(A,A.T),y)\n",
      "#print xt.shape\n",
      "\n",
      "x = np.dot(A.T,xt)\n",
      "#print x.shape\n",
      "\n",
      "print \"LS soln: x=\", x\n",
      "print \"Ax =\", np.dot(A,x), \"=\", y, \"=y\""
     ],
     "language": "python",
     "metadata": {},
     "outputs": [
      {
       "output_type": "stream",
       "stream": "stdout",
       "text": [
        "LS soln: x= [ 0.360  0.209  0.057 -0.336  0.028 -0.014]\n",
        "Ax = [ 1.000  2.000  3.000  4.000] = [1 2 3 4] =y\n"
       ]
      }
     ],
     "prompt_number": 162
    },
    {
     "cell_type": "code",
     "collapsed": false,
     "input": [
      "## alternative, diff soln:\n",
      "x = la.solve(np.dot(A.T,A),np.dot(A.T,y))\n",
      "#print \"LS soln: x=\", x\n",
      "#print \"Ax =\", np.dot(A,x)"
     ],
     "language": "python",
     "metadata": {},
     "outputs": [],
     "prompt_number": 163
    },
    {
     "cell_type": "markdown",
     "metadata": {},
     "source": [
      "**Question 3 (10 points)**.\n",
      "\n",
      "1. Prove that $e^{x^2 + y^2}$ is a convex function. (5 points)\n",
      "2. Using `scipy.optimize`, find the values of $x$ and $y$ that minimize $e^{x^2 + y^2}$ in the unconstrained case and in the presence of the constraint that $x + y = 3$. Use (1,1) as a starting guess (5 points)"
     ]
    },
    {
     "cell_type": "code",
     "collapsed": false,
     "input": [
      "# 1. \n",
      "\n",
      "\"\"\" We know h = exp(x) and g = x^2 are convex: h'' = e^x, g'' = 2 are both >0 for any x value\n",
      "    then x^2 + y^2 is still convex\n",
      "    and since exp(x) is both nondecreasing and convex, we have that exp(x^2 + y^2) is convex \"\"\"\n",
      "\n",
      "import sympy as sp\n",
      "from sympy import exp, symbols, hessian, Function, N\n",
      "\n",
      "x1, x2 = symbols('x1 x2')\n",
      "fe = symbols('fe', cls=Function)\n",
      "\n",
      "fe = exp(x1**2 + x2**2)\n",
      "\n",
      "H = np.array(hessian(fe,(x1,x2)))\n",
      "print H\n",
      "\n",
      "#e, v = la.eig(H)\n",
      "#np.real_if_close(e)"
     ],
     "language": "python",
     "metadata": {},
     "outputs": [
      {
       "output_type": "stream",
       "stream": "stdout",
       "text": [
        "[[4*x1**2*exp(x1**2 + x2**2) + 2*exp(x1**2 + x2**2)\n",
        "  4*x1*x2*exp(x1**2 + x2**2)]\n",
        " [4*x1*x2*exp(x1**2 + x2**2)\n",
        "  4*x2**2*exp(x1**2 + x2**2) + 2*exp(x1**2 + x2**2)]]\n"
       ]
      }
     ],
     "prompt_number": 18
    },
    {
     "cell_type": "code",
     "collapsed": false,
     "input": [
      "import scipy.optimize as opt\n",
      "\n",
      "# redefine as actual fcn\n",
      "def f(x): return np.exp(x[0]**2 + x[1]**2)\n",
      "\n",
      "# Set the constraints\n",
      "cons = ({'type': 'eq',\n",
      "         'fun' : lambda x: np.array([x[0] + x[1] - 3]),\n",
      "         'jac' : lambda x: np.array([1,1])})\n",
      "\n",
      "#print opt.minimize(f,[1,1])\n",
      "x_f = opt.minimize(f,[1,1])['x']\n",
      "print \"Minimal value of f is\", f(x_f), \"at\", x_f, \"\\n\"\n",
      "\n",
      "x_fc = opt.minimize(f,[1,1],constraints=cons,method='SLSQP')['x']\n",
      "print \"Minimal f value under constraint is\", round(f(x_fc),3), \"at\", x_fc"
     ],
     "language": "python",
     "metadata": {},
     "outputs": [
      {
       "output_type": "stream",
       "stream": "stdout",
       "text": [
        "Minimal value of f is 1.0 at [-0.000 -0.000] \n",
        "\n",
        "Minimal f value under constraint is 90.017 at [ 1.500  1.500]\n"
       ]
      }
     ],
     "prompt_number": 19
    },
    {
     "cell_type": "markdown",
     "metadata": {},
     "source": [
      "**Question 4 (10 points)**.\n",
      "\n",
      "A milkmaid is at point A and needs to get to point B. However, she also needs to fill a pail of water from the river en route from A to B. The equation of the river's path is shown in the figure below. What is the minimum distance she has to travel to do this?\n",
      "\n",
      "1. Solve using `scipy.optimize` and constrained minimization.\n",
      "2. Solve without using `scipy.optimize`. Hint: Use Lagrange \n",
      "\n",
      "![Milkmaid problem](milkmaid.png)"
     ]
    },
    {
     "cell_type": "code",
     "collapsed": false,
     "input": [
      "# 1.\n",
      "\n",
      "# g(x) = point k\n",
      "# need to minimize sum of dist from A to river + dist from river to B; river pt x1 = (x0,y), y = 10/(1+x0)\n",
      "#  dist_ar^2 = (2-x)^2 + (8-y)^2                dist_rb^2 = (8-x)^2 + (4-y)^2\n",
      "#  dist_ar^2 = (2-x0)^2 + (8-10/(1+x0))^2       dist_rb^2 = (8-x0)^2 + (4-10/(1+x0))^2\n",
      "#  Goal: min D^2 = dist_ar^2 + dist_rb^2\n",
      "# Constraint 1: y <= 8 (from A) --> 10/(1+x0) <= 8 --> 0.25 <= 0.25\n",
      "# Constraint 2: x0 <= 8 (from B)\n",
      "\n",
      "def g(x): \n",
      "    y = 10/(1+x)\n",
      "    a = np.sqrt((2-x)**2 + (8-y)**2)\n",
      "    b = np.sqrt((8-x)**2 + (4-y)**2)\n",
      "    return a+b\n",
      "\n",
      "d = opt.minimize_scalar(g,method='bounded',bounds=[0.25,8])['fun']\n",
      "print \"Minimum dist to travel from A to B and fetch water:\", round(d,2)"
     ],
     "language": "python",
     "metadata": {},
     "outputs": [
      {
       "output_type": "stream",
       "stream": "stdout",
       "text": [
        "Minimum dist to travel from A to B and fetch water: 10.79\n"
       ]
      }
     ],
     "prompt_number": 122
    },
    {
     "cell_type": "code",
     "collapsed": false,
     "input": [
      "# 2.\n",
      "\n",
      "# grad(g) = 0 --> solve grad(f) = 0\n",
      "x = sp.symbols('x')\n",
      "f = ((2-x)**2 + (8-10/(1+x))**2)**.5 + ((8-x)**2 + (4-10/(1+x))**2)**.5\n",
      "\n",
      "grad_f = sp.diff(f)\n",
      "\n",
      "x_min = sp.solve(grad_f,x)[3]\n",
      "x0 = float((x_min).evalf())\n",
      "d_min = np.sqrt((2-x0)**2 + (8-10/(1+x0))**2) + np.sqrt((8-x0)**2 + (4-10/(1+x0))**2)\n",
      "d_min = f.subs(x,x_min).evalf(4)\n",
      "print \"Minimum dist to travel from A to B and fetch water:\", round(d_min,2)"
     ],
     "language": "python",
     "metadata": {},
     "outputs": [
      {
       "output_type": "stream",
       "stream": "stdout",
       "text": [
        "Minimum dist to travel from A to B and fetch water: 10.79\n"
       ]
      }
     ],
     "prompt_number": 130
    },
    {
     "cell_type": "markdown",
     "metadata": {},
     "source": [
      "**Question 5 (10 points)**. \n",
      "\n",
      "Find the minimum of the following quadratic function on $\\mathbb{R}^4$ \n",
      "\n",
      "$$f(x) = x^TAx +b^Tx +c$$\n",
      "where\n",
      "$$A = \\left(\\begin{matrix}13&5&0&0\\\\5&7&0&0\\\\0&0&20&-7\\\\0&0&-7&12\\end{matrix}\\right), b = \\left(\\begin{matrix}1\\\\1\\\\1\\\\1\\end{matrix}\\right) \\textrm {and } c = 2$$\n",
      "\n",
      "and $x$ is a column vector.\n",
      "\n",
      "a. Using scipy.optimize (4 points)\n",
      "\n",
      "b. Using a matrix decomposition method (library functions - no need to code your own).  Note: for full credit you should exploit matrix structure. (4 points)\n",
      "\n",
      "c. Find the minimum under the constraint $||x||^2 = 1$ (i.e. on the unit sphere in $\\mathbb{R}^4$). (2 points)\n",
      "\n",
      "**Note: Do not be overly concerned if your values for $x$ at the minimum do not match exactly **\n"
     ]
    },
    {
     "cell_type": "code",
     "collapsed": false,
     "input": [
      "A = np.array([[13,5,0,0],[5,7,0,0],[0,0,20,-7],[0,0,-7,12]])\n",
      "b = np.ones(4)\n",
      "c = 2"
     ],
     "language": "python",
     "metadata": {},
     "outputs": [],
     "prompt_number": 166
    },
    {
     "cell_type": "code",
     "collapsed": false,
     "input": [
      "# 1.\n",
      "\n",
      "def f(x): return np.dot(x.T,np.dot(A,x)) + np.dot(b.T,x) + c\n",
      "\n",
      "np.random.seed(1111)\n",
      "P0 = np.random.uniform(0, 5, (4,1)) \n",
      "\n",
      "x_min = opt.minimize(f,P0.ravel())['x']\n",
      "print \"Min of quadratic fcn: f =\", round(f(x_min),3), \"at x =\", x_min"
     ],
     "language": "python",
     "metadata": {},
     "outputs": [
      {
       "output_type": "stream",
       "stream": "stdout",
       "text": [
        "Min of quadratic fcn: f = 1.902 at x = [-0.015 -0.061 -0.050 -0.071]\n"
       ]
      }
     ],
     "prompt_number": 167
    },
    {
     "cell_type": "code",
     "collapsed": false,
     "input": [
      "# 2. \n",
      "\n",
      "# confirm that A is symmetric & pos-def\n",
      "print A.T\n",
      "print np.linalg.eigvals(A)\n",
      "print\n",
      "\n",
      "# Then all we need do is solve x^TA = b^T == Ax = -b\n",
      "  # Use Cholesky decomp on A\n",
      "L = la.cholesky(A,lower=True)\n",
      "  # Confirm L*L^T == A\n",
      "print np.dot(L,L.T.conj())\n",
      "print\n",
      "\n",
      "  # Now solve Ly = -b for y\n",
      "y_min = np.linalg.solve(L,-b)\n",
      "  # Now solve L^Tx = y for x\n",
      "x_min2 = np.linalg.solve(L.T.conj(),y_min)\n",
      "\n",
      "print \"Min of quadratic fcn: f =\", round(f(x_min2),3), \"at x =\", x_min2"
     ],
     "language": "python",
     "metadata": {},
     "outputs": [
      {
       "output_type": "stream",
       "stream": "stdout",
       "text": [
        "[[13  5  0  0]\n",
        " [ 5  7  0  0]\n",
        " [ 0  0 20 -7]\n",
        " [ 0  0 -7 12]]\n",
        "[ 15.831  4.169  24.062  7.938]\n",
        "\n",
        "[[ 13.000  5.000  0.000  0.000]\n",
        " [ 5.000  7.000  0.000  0.000]\n",
        " [ 0.000  0.000  20.000 -7.000]\n",
        " [ 0.000  0.000 -7.000  12.000]]\n",
        "\n",
        "Min of quadratic fcn: f = 2.0 at x = [-0.030 -0.121 -0.099 -0.141]\n"
       ]
      }
     ],
     "prompt_number": 146
    },
    {
     "cell_type": "code",
     "collapsed": false,
     "input": [
      "# 2. alternative w/LU decomp\n",
      "\n",
      "# confirm that A is symmetric & pos-def\n",
      "print A.T\n",
      "print np.linalg.eigvals(A)\n",
      "print\n",
      "\n",
      "# Then all we need do is solve x^TA = b^T == Ax = -b\n",
      "  # Use LU decomp on A\n",
      "P, L, U = la.lu(A)\n",
      "  # confirm LU == A\n",
      "print np.dot(L,U)\n",
      "print\n",
      "\n",
      "  # Now solve Ly = -b for y\n",
      "y_min = np.linalg.solve(L,-b)\n",
      "  # Now solve Ux = y for x\n",
      "x_min2 = np.linalg.solve(U,y_min)\n",
      "\n",
      "print \"Min of quadratic fcn: f =\", round(f(x_min2),3), \"at x =\", x_min2"
     ],
     "language": "python",
     "metadata": {},
     "outputs": [
      {
       "output_type": "stream",
       "stream": "stdout",
       "text": [
        "[[13  5  0  0]\n",
        " [ 5  7  0  0]\n",
        " [ 0  0 20 -7]\n",
        " [ 0  0 -7 12]]\n",
        "[ 15.831  4.169  24.062  7.938]\n",
        "\n",
        "[[ 13.000  5.000  0.000  0.000]\n",
        " [ 5.000  7.000  0.000  0.000]\n",
        " [ 0.000  0.000  20.000 -7.000]\n",
        " [ 0.000  0.000 -7.000  12.000]]\n",
        "\n",
        "Min of quadratic fcn: f = 2.0 at x = [-0.030 -0.121 -0.099 -0.141]\n"
       ]
      }
     ],
     "prompt_number": 152
    },
    {
     "cell_type": "code",
     "collapsed": false,
     "input": [
      "# 2. alternative w/QR decomp\n",
      "\n",
      "# confirm that A is symmetric & pos-def\n",
      "print A.T\n",
      "print np.linalg.eigvals(A)\n",
      "print\n",
      "\n",
      "# Then all we need do is solve x^TA = b^T == Ax = b\n",
      "  # Use QR decomp on A\n",
      "Q, R = la.qr(A)\n",
      "  # Confirm QR == A\n",
      "print np.dot(Q,R)\n",
      "print\n",
      "\n",
      "  # Now solve Qy = -b for y\n",
      "y_min = np.linalg.solve(Q,-b)\n",
      "  # Now solve Rx = y for x\n",
      "x_min2 = np.linalg.solve(R,y_min)\n",
      "\n",
      "print \"Min of quadratic fcn: f =\", round(f(x_min2),3), \"at x =\", x_min2"
     ],
     "language": "python",
     "metadata": {},
     "outputs": [
      {
       "output_type": "stream",
       "stream": "stdout",
       "text": [
        "[[13  5  0  0]\n",
        " [ 5  7  0  0]\n",
        " [ 0  0 20 -7]\n",
        " [ 0  0 -7 12]]\n",
        "[ 15.831  4.169  24.062  7.938]\n",
        "\n",
        "[[ 13.000  5.000  0.000  0.000]\n",
        " [ 5.000  7.000  0.000  0.000]\n",
        " [ 0.000  0.000  20.000 -7.000]\n",
        " [ 0.000  0.000 -7.000  12.000]]\n",
        "\n",
        "Min of quadratic fcn: f = 2.0 at x = [-0.030 -0.121 -0.099 -0.141]\n"
       ]
      }
     ],
     "prompt_number": 148
    },
    {
     "cell_type": "code",
     "collapsed": false,
     "input": [
      "# 2. alternative w/SVD\n",
      "\n",
      "# confirm that A is symmetric & pos-def\n",
      "print A.T\n",
      "print np.linalg.eigvals(A)\n",
      "print\n",
      "\n",
      "# Then all we need do is solve x^TA = -b^T == Ax = -b\n",
      "  # Use SVD decomp on A\n",
      "U,S,V = la.svd(A)\n",
      "  # Confirm USV == A\n",
      "print np.dot(U,np.dot(np.diag(S),V))\n",
      "print\n",
      "\n",
      "  # Now solve Sy = -U^Tb for y\n",
      "y_min = np.linalg.solve(np.diag(S),-np.dot(U.T,b))\n",
      "  # Now solve Vx = y for x\n",
      "x_min2 = np.linalg.solve(V,y_min)\n",
      "\n",
      "print \"Min of quadratic fcn: f =\", round(f(x_min2),3), \"at x =\", x_min2"
     ],
     "language": "python",
     "metadata": {},
     "outputs": [
      {
       "output_type": "stream",
       "stream": "stdout",
       "text": [
        "[[13  5  0  0]\n",
        " [ 5  7  0  0]\n",
        " [ 0  0 20 -7]\n",
        " [ 0  0 -7 12]]\n",
        "[ 15.831  4.169  24.062  7.938]\n",
        "\n",
        "[[ 13.000  5.000  0.000  0.000]\n",
        " [ 5.000  7.000  0.000  0.000]\n",
        " [ 0.000  0.000  20.000 -7.000]\n",
        " [ 0.000  0.000 -7.000  12.000]]\n",
        "\n",
        "Min of quadratic fcn: f = 2.0 at x = [-0.030 -0.121 -0.099 -0.141]\n"
       ]
      }
     ],
     "prompt_number": 181
    },
    {
     "cell_type": "code",
     "collapsed": false,
     "input": [
      "# 2. alternative w/eigendecomp\n",
      "\n",
      "# confirm that A is symmetric & pos-def\n",
      "print A.T\n",
      "print np.linalg.eigvals(A)\n",
      "print\n",
      "\n",
      "# Then all we need do is solve x^TA = -b^T == Ax = -b\n",
      "  # Use eigen decomp on A\n",
      "S, Q = la.eig(A)\n",
      "S = np.real_if_close(S)\n",
      "  # Confirm QSQ^-1 == A\n",
      "print np.dot(Q,np.dot(np.diag(S),np.linalg.inv(Q)))\n",
      "print\n",
      "\n",
      "  # Now solve Sy = -Q^-1b for y\n",
      "y_min = np.linalg.solve(np.diag(S),-np.dot(np.linalg.inv(Q),b))\n",
      "  # Now solve Q^-1x = y for x\n",
      "x_min2 = np.linalg.solve(np.linalg.inv(Q),y_min)\n",
      "\n",
      "print \"Min of quadratic fcn: f =\", round(f(x_min2),3), \"at x =\", x_min2"
     ],
     "language": "python",
     "metadata": {},
     "outputs": [
      {
       "output_type": "stream",
       "stream": "stdout",
       "text": [
        "[[13  5  0  0]\n",
        " [ 5  7  0  0]\n",
        " [ 0  0 20 -7]\n",
        " [ 0  0 -7 12]]\n",
        "[ 15.831  4.169  24.062  7.938]\n",
        "\n",
        "[[ 13.000  5.000  0.000  0.000]\n",
        " [ 5.000  7.000  0.000  0.000]\n",
        " [ 0.000  0.000  20.000 -7.000]\n",
        " [ 0.000  0.000 -7.000  12.000]]\n",
        "\n",
        "Min of quadratic fcn: f = 2.0 at x = [-0.030 -0.121 -0.099 -0.141]\n"
       ]
      }
     ],
     "prompt_number": 191
    },
    {
     "cell_type": "code",
     "collapsed": false,
     "input": [
      "# 3.\n",
      "\n",
      "def f(x): return np.dot(x.T,np.dot(A,x)) + np.dot(b.T,x) + c\n",
      "\n",
      "np.random.seed(1111)\n",
      "P0 = np.random.uniform(0, 5, (4,1)) \n",
      "\n",
      "# Set the constraints\n",
      "cons = ({'type': 'eq',\n",
      "         'fun' : lambda x: np.array([np.sqrt(x[0]**2 + x[1]**2 + x[2]**2 + x[3]**2) - 1]),\n",
      "         'jac' : lambda x: np.array([2.*x[0]/(x[0]**2 + x[1]**2 + x[2]**2 + x[3]**2)**0.5,\n",
      "                                     2.*x[1]/(x[0]**2 + x[1]**2 + x[2]**2 + x[3]**2)**0.5,\n",
      "                                     2.*x[2]/(x[0]**2 + x[1]**2 + x[2]**2 + x[3]**2)**0.5,\n",
      "                                     2.*x[3]/(x[0]**2 + x[1]**2 + x[2]**2 + x[3]**2)**0.5])})\n",
      "\n",
      "x_min = opt.minimize(f,P0.ravel(),constraints=cons,method='SLSQP')['x']\n",
      "print \"Min of quadratic fcn: f =\", round(f(x_min),3), \"at x =\", x_min, \"with norm =\", round(la.norm(x_min))"
     ],
     "language": "python",
     "metadata": {},
     "outputs": [
      {
       "output_type": "stream",
       "stream": "stdout",
       "text": [
        "Min of quadratic fcn: f = 6.374 at x = [-0.534  0.823 -0.104 -0.161] with norm = 1.0\n"
       ]
      }
     ],
     "prompt_number": 135
    },
    {
     "cell_type": "markdown",
     "metadata": {},
     "source": [
      "**Question 6 (10 points)**.\n",
      "\n",
      "Given the set of vectors\n",
      "\n",
      "```\n",
      "v1 = np.array([1,2,3])\n",
      "v2 = np.array([2,4,7])\n",
      "v3 = np.array([1,0,1])\n",
      "```\n",
      "\n",
      "1. Calculate the pairwise Euclidean distance matrix using nested for loops. (2 points)\n",
      "2. Calculate the pairwise Euclidean distance matrix using numpy broadcasting. (3 points)\n",
      "3. Find an orthogonal basis for the space spanned by these vectors without using any functions from `numpy.linalg` or `scipy.linalg` (5 points)"
     ]
    },
    {
     "cell_type": "code",
     "collapsed": false,
     "input": [
      "v1 = np.array([1,2,3])\n",
      "v2 = np.array([2,4,7])\n",
      "v3 = np.array([1,0,1])\n",
      "\n",
      "V = np.hstack([v1,v2,v3]).reshape(3,3)\n",
      "V"
     ],
     "language": "python",
     "metadata": {},
     "outputs": [
      {
       "metadata": {},
       "output_type": "pyout",
       "prompt_number": 202,
       "text": [
        "array([[1, 2, 3],\n",
        "       [2, 4, 7],\n",
        "       [1, 0, 1]])"
       ]
      }
     ],
     "prompt_number": 202
    },
    {
     "cell_type": "code",
     "collapsed": false,
     "input": [
      "# 1. \n",
      "\n",
      "def dist(x,y):\n",
      "    return np.sqrt(np.sum((x-y)**2,-1))\n",
      "\n",
      "m = V.shape[0]\n",
      "\n",
      "print np.array([dist(V[i,:],V[j,:]) for i in range(m) for j in range(m)]).reshape(m,m)"
     ],
     "language": "python",
     "metadata": {},
     "outputs": [
      {
       "output_type": "stream",
       "stream": "stdout",
       "text": [
        "[[ 0.000  4.583  2.828]\n",
        " [ 4.583  0.000  7.280]\n",
        " [ 2.828  7.280  0.000]]\n"
       ]
      }
     ],
     "prompt_number": 29
    },
    {
     "cell_type": "code",
     "collapsed": false,
     "input": [
      "# 2.\n",
      "\n",
      "print np.array([dist(V[:,np.newaxis],V[np.newaxis,:])]).reshape(m,m)"
     ],
     "language": "python",
     "metadata": {},
     "outputs": [
      {
       "output_type": "stream",
       "stream": "stdout",
       "text": [
        "[[ 0.000  4.583  2.828]\n",
        " [ 4.583  0.000  7.280]\n",
        " [ 2.828  7.280  0.000]]\n"
       ]
      }
     ],
     "prompt_number": 30
    },
    {
     "cell_type": "code",
     "collapsed": false,
     "input": [
      "# 3.\n",
      "\n",
      "B1 = [sp.Matrix((1,2,1)), sp.Matrix((2,4,0)), sp.Matrix((3,7,1))]\n",
      "B2 = sp.GramSchmidt(B1)\n",
      "print B2\n",
      "print\n",
      "\n",
      "\n",
      "B = np.hstack([N(B2[0],4),N(B2[1],4),N(B2[2],4)])\n",
      "print \"Basis for space spanned by vectors:\\n\", B"
     ],
     "language": "python",
     "metadata": {},
     "outputs": [
      {
       "output_type": "stream",
       "stream": "stdout",
       "text": [
        "[Matrix([\n",
        "[1],\n",
        "[2],\n",
        "[1]]), Matrix([\n",
        "[ 1/3],\n",
        "[ 2/3],\n",
        "[-5/3]]), Matrix([\n",
        "[-2/5],\n",
        "[ 1/5],\n",
        "[   0]])]\n",
        "\n",
        "Basis for space spanned by vectors:\n",
        "[[1.000 0.3333 -0.4000]\n",
        " [2.000 0.6667 0.2000]\n",
        " [1.000 -1.667 0]]\n"
       ]
      }
     ],
     "prompt_number": 67
    },
    {
     "cell_type": "code",
     "collapsed": false,
     "input": [
      "b1 = np.array(N(B2[0]))\n",
      "b2 = np.array(N(B2[1]))\n",
      "b3 = np.array(N(B2[2]))\n",
      "\n",
      "print np.dot(b1.T,b2)\n",
      "print np.dot(b2.T,b3)\n",
      "print np.dot(b1.T,b3)"
     ],
     "language": "python",
     "metadata": {},
     "outputs": [
      {
       "output_type": "stream",
       "stream": "stdout",
       "text": [
        "[[-2.22044604925031e-16]]\n",
        "[[0]]\n",
        "[[0]]\n"
       ]
      }
     ],
     "prompt_number": 106
    },
    {
     "cell_type": "code",
     "collapsed": false,
     "input": [
      "# using numpy.linalg\n",
      "ev = la.orth(V)\n",
      "print ev"
     ],
     "language": "python",
     "metadata": {},
     "outputs": [
      {
       "output_type": "stream",
       "stream": "stdout",
       "text": [
        "[[-0.407 -0.100 -0.908]\n",
        " [-0.906 -0.086  0.415]\n",
        " [-0.119  0.991 -0.055]]\n"
       ]
      }
     ],
     "prompt_number": 211
    },
    {
     "cell_type": "code",
     "collapsed": false,
     "input": [],
     "language": "python",
     "metadata": {},
     "outputs": []
    }
   ],
   "metadata": {}
  }
 ]
}
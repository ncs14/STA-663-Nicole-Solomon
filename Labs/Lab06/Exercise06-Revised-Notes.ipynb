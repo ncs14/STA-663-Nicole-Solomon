{
 "metadata": {
  "name": "",
  "signature": "sha256:3b14423ba1395d887b6056352ca07274ddc0485d02855f4e7a77a47d8027d66a"
 },
 "nbformat": 3,
 "nbformat_minor": 0,
 "worksheets": [
  {
   "cells": [
    {
     "cell_type": "code",
     "collapsed": false,
     "input": [
      "from __future__ import division\n",
      "\n",
      "import os\n",
      "import sys\n",
      "import glob\n",
      "import matplotlib.pyplot as plt\n",
      "import numpy as np\n",
      "import pandas as pd\n",
      "%matplotlib inline\n",
      "%precision 4\n",
      "plt.style.use('ggplot')"
     ],
     "language": "python",
     "metadata": {},
     "outputs": [],
     "prompt_number": 1
    },
    {
     "cell_type": "code",
     "collapsed": false,
     "input": [
      "import scipy.optimize as opt\n",
      "import scipy.stats as stats\n",
      "import scipy.linalg as la\n",
      "from IPython.display import Image"
     ],
     "language": "python",
     "metadata": {},
     "outputs": [],
     "prompt_number": 2
    },
    {
     "cell_type": "markdown",
     "metadata": {},
     "source": [
      "**Exercise 1 (10 points)**.\n",
      "\n",
      "A milkmaid is at point A and needs to get to point B. However, she also needs to fill a pail of water from the river en route from A to B. The equation of the river's path is shown in the figure below. \n",
      "\n",
      "- What is the minimum distance she has to travel to do this?\n",
      "- Modify the code below so that the path taken by the milkmaid is shown as a dashed line.\n",
      "\n",
      "```\n",
      "x = np.linspace(0, 10, 100)\n",
      "plt.xlim([0, 10])\n",
      "plt.plot(x, 10.0/(1+x), 'b', linewidth=5)\n",
      "plt.scatter([2,8], [8,4], c=[0,1], s=100)\n",
      "plt.text(8, 5, 'B (8,4)', fontsize=16)\n",
      "plt.text(2, 9, 'A (2,8)', fontsize=16)\n",
      "plt.text(0.5, 2, 'River', fontsize=16)\n",
      "plt.text(0.5, 0.5, 'g(x y) = y - 10/(1+x)', fontsize=16);\n",
      "```"
     ]
    },
    {
     "cell_type": "code",
     "collapsed": false,
     "input": [
      "x = np.linspace(0, 10, 100)\n",
      "plt.xlim([0, 10])\n",
      "plt.plot(x, 10.0/(1+x), 'b', linewidth=5)\n",
      "plt.scatter([2,8], [8,4], c=[0,1], s=100)\n",
      "plt.text(8, 5, 'B (8,4)', fontsize=16)\n",
      "plt.text(2, 9, 'A (2,8)', fontsize=16)\n",
      "plt.text(0.5, 2, 'River', fontsize=16)\n",
      "plt.text(0.5, 0.5, 'g(x, y) = y - 10/(1+x)', fontsize=16);"
     ],
     "language": "python",
     "metadata": {},
     "outputs": [
      {
       "metadata": {},
       "output_type": "display_data",
       "png": "[encoded data removed]",
       "text": [
        "<matplotlib.figure.Figure at 0x7f197aa14110>"
       ]
      }
     ],
     "prompt_number": 3
    },
    {
     "cell_type": "code",
     "collapsed": false,
     "input": [
      "# g(x,y) = point k=(a,b,c)\n",
      "# need to minimize sum of dist from A to river + dist from river to B; river pt x1 = (x0,y), y = 10/(1+x0)\n",
      "#  dist_ar^2 = (2-x)^2 + (8-y)^2                dist_rb^2 = (8-x)^2 + (4-y)^2\n",
      "#  dist_ar^2 = (2-x0)^2 + (8-10/(1+x0))^2       dist_rb^2 = (8-x0)^2 + (4-10/(1+x0))^2\n",
      "#  Goal: min D^2 = dist_ar^2 + dist_rb^2\n",
      "# Constraint 1: y <= 8 (from A) --> 10/(1+x0) <= 8 --> 0.25 <= 0.25\n",
      "# Constraint 2: x0 <= 8 (from B)\n",
      "\n",
      "def g(x): \n",
      "    a = np.sqrt((2-x)**2 + (8-y)**2)\n",
      "    b = np.sqrt((8-x)**2 + (4-y)**2)\n",
      "    return a+b\n",
      "\n",
      "#cons = \n",
      "\n",
      "#min_sc = opt.minimize(g,constraints=cons)\n",
      "#x_min = min_sc['x']\n",
      "#d_min = min_sc['fun']\n",
      "#print \"Minimum dist to travel from A to B and fetch water:\", round(d_min,2)"
     ],
     "language": "python",
     "metadata": {},
     "outputs": []
    },
    {
     "cell_type": "code",
     "collapsed": false,
     "input": [
      "# g(x,y) = point k=(a,b,c)\n",
      "# need to minimize sum of dist from A to river + dist from river to B; river pt x1 = (x0,y), y = 10/(1+x0)\n",
      "#  dist_ar^2 = (2-x)^2 + (8-y)^2                dist_rb^2 = (8-x)^2 + (4-y)^2\n",
      "#  dist_ar^2 = (2-x0)^2 + (8-10/(1+x0))^2       dist_rb^2 = (8-x0)^2 + (4-10/(1+x0))^2\n",
      "#  Goal: min D^2 = dist_ar^2 + dist_rb^2\n",
      "# Constraint 1: y <= 8 (from A) --> 10/(1+x0) <= 8 --> 0.25 <= 0.25\n",
      "# Constraint 2: x0 <= 8 (from B)\n",
      "\n",
      "def g(x): \n",
      "    y = 10/(1+x)\n",
      "    a = np.sqrt((2-x)**2 + (8-y)**2)\n",
      "    b = np.sqrt((8-x)**2 + (4-y)**2)\n",
      "    return a+b\n",
      "\n",
      "min_sc = opt.minimize_scalar(g,method='bounded',bounds=[0.25,8])\n",
      "x_min = min_sc['x']\n",
      "d_min = min_sc['fun']\n",
      "print \"Minimum dist to travel from A to B and fetch water:\", round(d_min,2)"
     ],
     "language": "python",
     "metadata": {},
     "outputs": [
      {
       "output_type": "stream",
       "stream": "stdout",
       "text": [
        "Minimum dist to travel from A to B and fetch water: 10.79\n"
       ]
      }
     ],
     "prompt_number": 4
    },
    {
     "cell_type": "code",
     "collapsed": false,
     "input": [
      "import matplotlib.lines as lines\n",
      "fig, ax = plt.subplots()\n",
      "\n",
      "x = np.linspace(0, 10, 100)\n",
      "plt.xlim([0, 10])\n",
      "plt.ylim([-4, 12])\n",
      "plt.plot(x, 10.0/(1+x), 'b', linewidth=3)\n",
      "plt.scatter([2,8], [8,4], c=[0,0], s=100)\n",
      "plt.text(8, 5, 'B (8,4)', fontsize=16)\n",
      "plt.text(2, 9, 'A (2,8)', fontsize=16)\n",
      "plt.text(8.65, -0.5, 'River', fontsize=16)\n",
      "plt.text(4.75, -2, 'g(x, y) = y - 10/(1+x)', fontsize=16);\n",
      "\n",
      "### Add the pt at which she goes to the river\n",
      "x_pt = [x_min,10./(1+x_min)]\n",
      "#print x_pt\n",
      "plt.scatter(x_pt[0],x_pt[1],c=1,s=100)\n",
      "plt.text(x_min-2, x_pt[1]-1.2, 'R (4.4,1.8)', fontsize=16)\n",
      "\n",
      "### Add the path she walks\n",
      "line1 = [(2,8), (x_min,10./(1+x_min))]\n",
      "line2 = [(x_min,10./(1+x_min)), (8,4)]\n",
      "# Note that the Line2D takes a list of x values and a list of y values,\n",
      "# not 2 points as one might expect.  So we have to convert our points\n",
      "# an x-list and a y-list.\n",
      "(line1_xs, line1_ys) = zip(*line1)\n",
      "(line2_xs, line2_ys) = zip(*line2)\n",
      "ax.add_line(lines.Line2D(line1_xs, line1_ys, linewidth=2, color='red', ls='--'))\n",
      "ax.add_line(lines.Line2D(line2_xs, line2_ys, linewidth=2, color='red', ls='--'))"
     ],
     "language": "python",
     "metadata": {},
     "outputs": [
      {
       "metadata": {},
       "output_type": "pyout",
       "prompt_number": 19,
       "text": [
        "<matplotlib.lines.Line2D at 0x7f19791f7850>"
       ]
      },
      {
       "metadata": {},
       "output_type": "display_data",
       "png": "[encoded data removed]",
       "text": [
        "<matplotlib.figure.Figure at 0x7f19787929d0>"
       ]
      }
     ],
     "prompt_number": 19
    },
    {
     "cell_type": "markdown",
     "metadata": {},
     "source": [
      "**Exercise 2 (10 points)**.\n",
      "\n",
      "You are given 5 samples of 100 rolls of a die. The die is chosen at random from one of two dice, either of which may be biased. Given the following counts, estimate the parameters for each die (i.e. the probabilites of getting a 1, 2, 3, 4, 5 or 6)."
     ]
    },
    {
     "cell_type": "code",
     "collapsed": false,
     "input": [
      "df = pd.read_csv('dice.csv', index_col=0)\n",
      "df"
     ],
     "language": "python",
     "metadata": {},
     "outputs": [
      {
       "html": [
        "<div style=\"max-height:1000px;max-width:1500px;overflow:auto;\">\n",
        "<table border=\"1\" class=\"dataframe\">\n",
        "  <thead>\n",
        "    <tr style=\"text-align: right;\">\n",
        "      <th></th>\n",
        "      <th>1</th>\n",
        "      <th>2</th>\n",
        "      <th>3</th>\n",
        "      <th>4</th>\n",
        "      <th>5</th>\n",
        "      <th>6</th>\n",
        "    </tr>\n",
        "  </thead>\n",
        "  <tbody>\n",
        "    <tr>\n",
        "      <th>Sample 1</th>\n",
        "      <td>  2</td>\n",
        "      <td> 14</td>\n",
        "      <td> 10</td>\n",
        "      <td> 20</td>\n",
        "      <td> 26</td>\n",
        "      <td> 28</td>\n",
        "    </tr>\n",
        "    <tr>\n",
        "      <th>Sample 2</th>\n",
        "      <td>  1</td>\n",
        "      <td> 13</td>\n",
        "      <td> 12</td>\n",
        "      <td> 17</td>\n",
        "      <td> 21</td>\n",
        "      <td> 36</td>\n",
        "    </tr>\n",
        "    <tr>\n",
        "      <th>Sample 3</th>\n",
        "      <td> 21</td>\n",
        "      <td> 18</td>\n",
        "      <td> 16</td>\n",
        "      <td> 12</td>\n",
        "      <td> 14</td>\n",
        "      <td> 19</td>\n",
        "    </tr>\n",
        "    <tr>\n",
        "      <th>Sample 4</th>\n",
        "      <td> 15</td>\n",
        "      <td> 20</td>\n",
        "      <td> 20</td>\n",
        "      <td> 15</td>\n",
        "      <td> 12</td>\n",
        "      <td> 18</td>\n",
        "    </tr>\n",
        "    <tr>\n",
        "      <th>Sample 5</th>\n",
        "      <td>  5</td>\n",
        "      <td> 10</td>\n",
        "      <td> 11</td>\n",
        "      <td> 24</td>\n",
        "      <td> 17</td>\n",
        "      <td> 33</td>\n",
        "    </tr>\n",
        "  </tbody>\n",
        "</table>\n",
        "</div>"
       ],
       "metadata": {},
       "output_type": "pyout",
       "prompt_number": 6,
       "text": [
        "           1   2   3   4   5   6\n",
        "Sample 1   2  14  10  20  26  28\n",
        "Sample 2   1  13  12  17  21  36\n",
        "Sample 3  21  18  16  12  14  19\n",
        "Sample 4  15  20  20  15  12  18\n",
        "Sample 5   5  10  11  24  17  33"
       ]
      }
     ],
     "prompt_number": 6
    },
    {
     "cell_type": "code",
     "collapsed": false,
     "input": [
      "def em(xs, thetas, max_iter=100, tol=1e-6):\n",
      "    \"\"\"Expectation-maximization for coin sample problem.\"\"\"\n",
      "    # initialize old log likelihood\n",
      "    ll_old = -np.infty\n",
      "    for i in range(max_iter):\n",
      "        # compute log likelihood for each dice\n",
      "        ll = np.array([np.sum(xs * np.log(theta), axis=1) for theta in thetas])    \n",
      "        # compute the w_ij -- Expectation step\n",
      "        lik = np.exp(ll)\n",
      "        ws = lik/lik.sum(0)\n",
      "        # theta_c = sum_i (w_ij * x_ic)/(sum_i sum_c w_ij x_ic)\n",
      "          # theta_c numerator: \n",
      "        vs = np.array([w[:, None] * xs for w in ws])\n",
      "        thetas = np.array([v.sum(0)/v.sum() for v in vs])\n",
      "        # compute updates log likelihood = w_j*ll_j\n",
      "        ll_new = np.sum([w*l for w, l in zip(ws, ll)])\n",
      "        # end iterations when diff btwn new & old likeli. < tol\n",
      "        if np.abs(ll_new - ll_old) < tol:\n",
      "            break\n",
      "        # update the old likelihood w/ new\n",
      "        ll_old = ll_new\n",
      "    return i, thetas, ll_new\n",
      "\n",
      "# Retain array version of df\n",
      "xs = df.values\n",
      "\n",
      "# Compute the EM algorithm on the data array with random initial thetas\n",
      "np.random.seed(1234)\n",
      "results = [em(xs, np.random.random((2,6))) for i in range(10)]\n",
      "# Sort the results backwards by log-likelihood (increasing order - smr neg num at bottom)\n",
      "# and then keep the last entry = lgst log-likelihood result\n",
      "i, thetas, ll =  sorted(results, key=lambda x: x[-1])[-1]\n",
      "\n",
      "theta_df = pd.DataFrame(np.around(thetas,3),columns=[np.array(range(6))+1])\n",
      "theta_df.index=['Dice 1','Dice 2']\n",
      "theta_df"
     ],
     "language": "python",
     "metadata": {},
     "outputs": [
      {
       "html": [
        "<div style=\"max-height:1000px;max-width:1500px;overflow:auto;\">\n",
        "<table border=\"1\" class=\"dataframe\">\n",
        "  <thead>\n",
        "    <tr style=\"text-align: right;\">\n",
        "      <th></th>\n",
        "      <th>1</th>\n",
        "      <th>2</th>\n",
        "      <th>3</th>\n",
        "      <th>4</th>\n",
        "      <th>5</th>\n",
        "      <th>6</th>\n",
        "    </tr>\n",
        "  </thead>\n",
        "  <tbody>\n",
        "    <tr>\n",
        "      <th>Dice 1</th>\n",
        "      <td> 0.027</td>\n",
        "      <td> 0.123</td>\n",
        "      <td> 0.11</td>\n",
        "      <td> 0.203</td>\n",
        "      <td> 0.213</td>\n",
        "      <td> 0.323</td>\n",
        "    </tr>\n",
        "    <tr>\n",
        "      <th>Dice 2</th>\n",
        "      <td> 0.180</td>\n",
        "      <td> 0.190</td>\n",
        "      <td> 0.18</td>\n",
        "      <td> 0.135</td>\n",
        "      <td> 0.130</td>\n",
        "      <td> 0.185</td>\n",
        "    </tr>\n",
        "  </tbody>\n",
        "</table>\n",
        "</div>"
       ],
       "metadata": {},
       "output_type": "pyout",
       "prompt_number": 7,
       "text": [
        "            1      2     3      4      5      6\n",
        "Dice 1  0.027  0.123  0.11  0.203  0.213  0.323\n",
        "Dice 2  0.180  0.190  0.18  0.135  0.130  0.185"
       ]
      }
     ],
     "prompt_number": 7
    },
    {
     "cell_type": "code",
     "collapsed": false,
     "input": [
      "### Check EM results:\n",
      "### Compute likely dice parameters by hand\n",
      "\n",
      "# compute column proportions\n",
      "dfprops = df.apply(lambda c: c/c.sum(),axis=1)\n",
      "print dfprops\n",
      "print\n",
      "\n",
      "# Group those rows likely to be one die together & take avg\n",
      "# across samples (cols) in order to obtain param estimates\n",
      "par1 = dfprops.iloc[(0,1,4),:].mean(axis=0)\n",
      "par2 = dfprops.iloc[(2,3),:].mean(axis=0)\n",
      "print np.array(par1).reshape(1,6)\n",
      "print\n",
      "print np.array(par2).reshape(1,6)"
     ],
     "language": "python",
     "metadata": {},
     "outputs": [
      {
       "output_type": "stream",
       "stream": "stdout",
       "text": [
        "             1     2     3     4     5     6\n",
        "Sample 1  0.02  0.14  0.10  0.20  0.26  0.28\n",
        "Sample 2  0.01  0.13  0.12  0.17  0.21  0.36\n",
        "Sample 3  0.21  0.18  0.16  0.12  0.14  0.19\n",
        "Sample 4  0.15  0.20  0.20  0.15  0.12  0.18\n",
        "Sample 5  0.05  0.10  0.11  0.24  0.17  0.33\n",
        "\n",
        "[[ 0.0267  0.1233  0.11    0.2033  0.2133  0.3233]]\n",
        "\n",
        "[[ 0.18   0.19   0.18   0.135  0.13   0.185]]\n"
       ]
      }
     ],
     "prompt_number": 8
    },
    {
     "cell_type": "markdown",
     "metadata": {},
     "source": [
      "**Exercise 3 (10 points)**\n",
      "\n",
      "You have some data about the intervals between arrivals (in minutes) of customers to a bank. You want to know how many customers to expect from 9 AM to 5 PM. Simulate 1000 sequences of customer arrivals over an 8 hour period and estimate the mean and variance. "
     ]
    },
    {
     "cell_type": "code",
     "collapsed": false,
     "input": [
      "x = np.loadtxt('arrival_intervals.txt')"
     ],
     "language": "python",
     "metadata": {},
     "outputs": [],
     "prompt_number": 9
    },
    {
     "cell_type": "code",
     "collapsed": false,
     "input": [
      "from scipy.interpolate import interp1d\n",
      "\n",
      "# interpolation function to estimate the inv CDF\n",
      "def extrap1d(interpolator):\n",
      "    \"\"\"From StackOverflow http://bit.ly/1BjyRfk\"\"\"\n",
      "    xs = interpolator.x\n",
      "    ys = interpolator.y\n",
      "\n",
      "    def pointwise(x):\n",
      "        if x < xs[0]:\n",
      "            return ys[0]+(x-xs[0])*(ys[1]-ys[0])/(xs[1]-xs[0])\n",
      "        elif x > xs[-1]:\n",
      "            return ys[-1]+(x-xs[-1])*(ys[-1]-ys[-2])/(xs[-1]-xs[-2])\n",
      "        else:\n",
      "            return interpolator(x)\n",
      "\n",
      "    def ufunclike(xs):\n",
      "        return np.array(map(pointwise, np.array(xs)))\n",
      "\n",
      "    return ufunclike\n",
      "\n",
      "\n",
      "from statsmodels.distributions.empirical_distribution import ECDF\n",
      "\n",
      "# set random seed\n",
      "np.random.seed(1234)\n",
      "\n",
      "ecdf = ECDF(x)\n",
      "inv_cdf = extrap1d(interp1d(ecdf.y, ecdf.x, \n",
      "                            bounds_error=False, assume_sorted=True))\n",
      "r = np.random.uniform(0, 1, 1000)\n",
      "ys = inv_cdf(r)\n",
      "yss = ys[~np.isnan(ys)]\n",
      "\n",
      "plt.hist(yss, 20, histtype='step', color='blue', normed=True, linewidth=1);\n",
      "plt.hist(x, 20, histtype='step', color='red', normed=True, linewidth=1);"
     ],
     "language": "python",
     "metadata": {},
     "outputs": [
      {
       "metadata": {},
       "output_type": "display_data",
       "png": "[encoded data removed]",
       "text": [
        "<matplotlib.figure.Figure at 0x7f1979c1ee90>"
       ]
      }
     ],
     "prompt_number": 10
    },
    {
     "cell_type": "code",
     "collapsed": false,
     "input": [
      "# Max arrival time = 8hrs * 60min/hr = 480 min\n",
      "max_t = 8*60\n",
      "# how many ys's are < max_t\n",
      "num_cust = len(yss[np.cumsum(yss)<=max_t])\n",
      "num_cust"
     ],
     "language": "python",
     "metadata": {},
     "outputs": [
      {
       "metadata": {},
       "output_type": "pyout",
       "prompt_number": 11,
       "text": [
        "35"
       ]
      }
     ],
     "prompt_number": 11
    },
    {
     "cell_type": "code",
     "collapsed": false,
     "input": [
      "#### Random draws from existing y = inv_cdf = random num generator\n",
      "# Obtain arrival time sequences for 1000 reps\n",
      "reps = 1000\n",
      "\n",
      "# Max arrival time = 8hrs * 60min/hr = 480 min\n",
      "max_t = 8*60\n",
      "\n",
      "# Number of customers\n",
      "n_cust = []\n",
      "\n",
      "# Initialize seed\n",
      "seed = reps\n",
      "\n",
      "for i in range(reps):\n",
      "    seed += 1\n",
      "    np.random.seed(seed)\n",
      "    # randomly sample from ys to obtain MC sample of arrival times\n",
      "    a_t = []\n",
      "    # initialize first arrival time\n",
      "    t = 0\n",
      "    # Add arrival times until current arrival time > max_t\n",
      "    while t <= max_t:\n",
      "        # randomly draw an inter-arrival time from ys\n",
      "        t_i = np.random.choice(yss, 1, replace=True)\n",
      "        # add to previous customer's arrival time for new cust arrival time\n",
      "        t += t_i\n",
      "        # add newest arrival time to list only if <= max_t\n",
      "        if t<= max_t: a_t.append(t)\n",
      "    n_cust.append(len(a_t))\n",
      "\n",
      "print \"Expected number of customers:\", np.mean(n_cust)\n",
      "print \"Variance in number of customers:\", np.var(n_cust)"
     ],
     "language": "python",
     "metadata": {},
     "outputs": [
      {
       "output_type": "stream",
       "stream": "stdout",
       "text": [
        "Expected number of customers: 32.683\n",
        "Variance in number of customers: 79.086511\n"
       ]
      }
     ],
     "prompt_number": 12
    },
    {
     "cell_type": "code",
     "collapsed": false,
     "input": [
      "#### Random draws from existing y = inv_cdf = random num generator\n",
      "# Obtain arrival time sequences for 1000 reps\n",
      "reps = 1000\n",
      "\n",
      "# Max arrival time = 8hrs * 60min/hr = 480 min\n",
      "max_t = 8*60\n",
      "\n",
      "# Number of customers\n",
      "n_cust = []\n",
      "\n",
      "# Initialize random seed\n",
      "np.random.seed(1000)\n",
      "\n",
      "for i in range(reps):\n",
      "    # generate new ys\n",
      "    r = np.random.uniform(0, 1, 100)\n",
      "    ys = inv_cdf(r)\n",
      "    yss = ys[~np.isnan(ys)]\n",
      "    n_cust.append(len(ys[np.cumsum(yss)<=max_t]))\n",
      "\n",
      "print \"Expected number of customers:\", np.mean(n_cust)\n",
      "print \"Variance in number of customers:\", np.var(n_cust)"
     ],
     "language": "python",
     "metadata": {},
     "outputs": [
      {
       "output_type": "stream",
       "stream": "stdout",
       "text": [
        "Expected number of customers: 34.133\n",
        "Variance in number of customers: 76.951311\n"
       ]
      }
     ],
     "prompt_number": 13
    },
    {
     "cell_type": "markdown",
     "metadata": {},
     "source": [
      "**Exercsie 4 (10 points)**\n",
      "\n",
      "The Cauchy distribution is given by \n",
      "$$\n",
      "f(x) = \\frac{1}{\\pi (1 + x^2)}, \\ \\ -\\infty \\lt x \\lt \\infty \n",
      "$$\n",
      "\n",
      "1. Integrate the tail probability $P(X > 2)$ using Monte Carlo with 1,000 samples:\n",
      "    1. Sampling from the Cauchy distribution directly\n",
      "    2. Sampling from the uniform distribution using an appropriate change of variables\n",
      "2. Plot the 95% CI for the Monte Carlo estimates for the number of samples from 1 to 1,000, and using 1,000 reps to estimate the lower and upper bounds:\n",
      "    1. For sampling from the Cauchy distribution using mulitple Monte Carlo sequences\n",
      "    2. For sampling from the uniform distribution using bootstrap samples of a single Monte Carlo sequence\n",
      "\n"
     ]
    },
    {
     "cell_type": "code",
     "collapsed": false,
     "input": [
      "# 1A\n",
      "n = 1000\n",
      "dist = stats.cauchy()\n",
      "# compute true P(X>2)\n",
      "prx2 = 1 - stats.cauchy().cdf(2)\n",
      "print \"1A. P(X>2) from Cauchy:\", round(prx2,3)\n",
      "print\n",
      "\n",
      "# 1B\n",
      "np.random.seed(1234)\n",
      "y = stats.uniform().rvs(n)\n",
      "# Use substitution for more efficient MC estimator using Unif samples\n",
      "    # Direct MC only uses ~10% samples:\n",
      "prx2 = 1.0/n * np.sum(2.0/(np.pi * (4 + y**2)))\n",
      "print \"1B. P(X>2) from Unif trans:\", round(prx2,3)"
     ],
     "language": "python",
     "metadata": {},
     "outputs": [
      {
       "output_type": "stream",
       "stream": "stdout",
       "text": [
        "1A. P(X>2) from Cauchy: 0.148\n",
        "\n",
        "1B. P(X>2) from Unif trans: 0.147\n"
       ]
      }
     ],
     "prompt_number": 14
    },
    {
     "cell_type": "code",
     "collapsed": false,
     "input": [
      "# 2A\n",
      "np.random.seed(1234)\n",
      "reps = 1000\n",
      "\n",
      "# Cauchy pdf\n",
      "def f(z): return 1 / (np.pi * (1+z**2))\n",
      "\n",
      "# Evaluate Cauchy pdf at n*reps random points\n",
      "x = f(np.random.standard_cauchy((n, reps)))\n",
      "# Take the avg of x across the num of samples (divide (increasingly) by # samples)\n",
      "y = 1/np.arange(1, n+1)[:, None] * np.cumsum(x, axis=0)\n",
      "# Compute the 95% upper & lower bounds\n",
      "upper, lower = np.percentile(y, [2.5, 97.5], axis=1)\n",
      "\n",
      "# Plot all of the avg'd samples = MC samples in grey\n",
      "plt.plot(np.arange(1, n+1), y, c='grey', alpha=0.02)\n",
      "# Show the first sample in red\n",
      "plt.plot(np.arange(1, n+1), y[:, 0], c='red', linewidth=1);\n",
      "# Plot the CI bounds in blue\n",
      "plt.plot(np.arange(1, n+1), upper, 'b', np.arange(1, n+1), lower, 'b');"
     ],
     "language": "python",
     "metadata": {},
     "outputs": [
      {
       "metadata": {},
       "output_type": "display_data",
       "png": "[encoded data removed]",
       "text": [
        "<matplotlib.figure.Figure at 0x7f197a9cc910>"
       ]
      }
     ],
     "prompt_number": 15
    },
    {
     "cell_type": "code",
     "collapsed": false,
     "input": [
      "# 2B\n",
      "np.random.seed(1111)\n",
      "reps = 1000\n",
      "\n",
      "# Uniform-Cauchy pdf\n",
      "def f(z): return 2 / (np.pi * (4+z**2))\n",
      "\n",
      "# Evaluate Cauchy pdf at n*reps random points\n",
      "x = f(np.random.random((n, reps)))\n",
      "# Randomly select from the first f(x) to obtain bootstrap samples\n",
      "xb = np.random.choice(x[:,0], (n, reps), replace=True)\n",
      "# Average bootstrap samples to obtain MC samples\n",
      "yb = 1/np.arange(1, n+1)[:, None] * np.cumsum(xb, axis=0)\n",
      "# Compute the upper & lower bounds of 95% CI\n",
      "upper, lower = np.percentile(yb, [2.5, 97.5], axis=1)\n",
      "\n",
      "# Plot all of the avg'd samples = MC samples in grey\n",
      "plt.plot(np.arange(1, n+1)[:, None], yb, c='grey', alpha=0.02)\n",
      "# Show the first sample in red\n",
      "plt.plot(np.arange(1, n+1), yb[:, 0], c='red', linewidth=1)\n",
      "# Plot the CI bounds in blue\n",
      "plt.plot(np.arange(1, n+1), upper, 'b', np.arange(1, n+1), lower, 'b');"
     ],
     "language": "python",
     "metadata": {},
     "outputs": [
      {
       "metadata": {},
       "output_type": "display_data",
       "png": "[encoded data removed]",
       "text": [
        "<matplotlib.figure.Figure at 0x7f1977dd2c50>"
       ]
      }
     ],
     "prompt_number": 16
    },
    {
     "cell_type": "markdown",
     "metadata": {},
     "source": [
      "**Exercise 5 (10 points)**.\n",
      "\n",
      "Estimate the following integral using Monte Carlo integration\n",
      "\n",
      "$$\n",
      "\\int_{-\\infty}^{\\infty} x^2 \\frac{1}{2}e^{-|x|} dx\n",
      "$$\n",
      "\n",
      "Hint: See figure.\n",
      "\n",
      "![Hint](./dexp.png)"
     ]
    },
    {
     "cell_type": "code",
     "collapsed": false,
     "input": [
      "# Estimate with importance sampling where g(x) = N(0,2), h(x) = x^2, f(x) = Laplace(0,1) = .5*e^|x|\n",
      "\n",
      "np.random.seed(1100)\n",
      "n = 10000\n",
      "# Draw from g(x) --> y_i\n",
      "y = stats.norm(loc=0,scale=np.sqrt(2)).rvs(n)\n",
      "# New estimator = f(y_i)/g(y_i) * h(y_i)\n",
      "h_is = 1.0/n * np.sum(stats.laplace.pdf(y)/stats.norm(loc=0,scale=np.sqrt(2)).pdf(y)*y**2)\n",
      "h_is\n",
      "# more often than not you will get 1.96 since normal doesn't really help except for the tails\n",
      "# but in the center, laplace wins"
     ],
     "language": "python",
     "metadata": {},
     "outputs": [
      {
       "metadata": {},
       "output_type": "pyout",
       "prompt_number": 25,
       "text": [
        "1.9217"
       ]
      }
     ],
     "prompt_number": 25
    },
    {
     "cell_type": "code",
     "collapsed": false,
     "input": [],
     "language": "python",
     "metadata": {},
     "outputs": [],
     "prompt_number": 17
    }
   ],
   "metadata": {}
  }
 ]
}
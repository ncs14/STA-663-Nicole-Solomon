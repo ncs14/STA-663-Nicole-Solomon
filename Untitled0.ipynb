{
 "metadata": {
  "name": "",
  "signature": "sha256:e99678c27ffd39ed8fbdc7c7fefb7555c7eb6efbb35e4c828cd66da3741f406c"
 },
 "nbformat": 3,
 "nbformat_minor": 0,
 "worksheets": []
}